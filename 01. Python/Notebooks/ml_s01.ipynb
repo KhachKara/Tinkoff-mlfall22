{
 "cells": [
  {
   "cell_type": "markdown",
   "id": "4M7yx5MXwtCU",
   "metadata": {
    "id": "4M7yx5MXwtCU"
   },
   "source": [
    "## Введение"
   ]
  },
  {
   "cell_type": "markdown",
   "id": "Pu3dvVd0vnvt",
   "metadata": {
    "id": "Pu3dvVd0vnvt"
   },
   "source": [
    "Широко известно, что для машинного обучения используется Python. Но также известно, что Python уступает по своему быстродействию *компилируемым* языкам типа C++, C# или Kotlin. Поэтому не всегда понятно, почему для задач ML, где используются тяжеловесные модели, которые должны отвечать быстро, используется интерпретируемый Python.\n",
    "\n",
    "На этот вопрос есть два ответа:\n",
    "* удобный синтаксис для операций над векторами\n",
    "* скорость векторизованных операций\n",
    "\n",
    "Библиотека NumPy, которую мы разберём на этом семинаре, позволяет многократно оптимизировать работу с векторами по памяти и по времени. Если не вдаваться глубоко в подробности работы векторов NumPy, то они\n",
    "* Работают быстро благодаря переходу исполнения от Python к C++\n",
    "* Внутри операции ускоряются за счет векторизации (распараллеливание на уровне процессора или т.н. AVX-инструкции)\n",
    "* Занимают меньше памяти благодаря типизации - к примеру, по умолчанию векторы заполняются целыми либо вещественными числами. Также как и обычные списки, векторы NumPy могут содержать данные разных типов, но по умолчанию в них выделяется память под элементы одного (заранее выбранного) типа.\n",
    "\n",
    "С библиотекой numpy также связаны другие библиотеки, использующиеся в машинном обучении и анализе данных. На этом семинаре помимо numpy разберём pandas и matplotlib/seaborn."
   ]
  },
  {
   "cell_type": "markdown",
   "id": "rGROE3L_DDb_",
   "metadata": {
    "id": "rGROE3L_DDb_"
   },
   "source": [
    "## Numpy"
   ]
  },
  {
   "cell_type": "code",
   "execution_count": 1,
   "id": "fIg5oZ3GDbL3",
   "metadata": {
    "id": "fIg5oZ3GDbL3"
   },
   "outputs": [],
   "source": [
    "import numpy as np  # np - общепринятый алиас для библиотеки numpy"
   ]
  },
  {
   "cell_type": "markdown",
   "id": "yMxqDwGz9nfh",
   "metadata": {
    "id": "yMxqDwGz9nfh"
   },
   "source": [
    "### Инициализация numpy-массивов"
   ]
  },
  {
   "cell_type": "code",
   "execution_count": 2,
   "id": "1005ecf7",
   "metadata": {
    "colab": {
     "base_uri": "https://localhost:8080/"
    },
    "id": "1005ecf7",
    "outputId": "2654d2db-7826-4c01-9add-b9e3fad97b44"
   },
   "outputs": [],
   "source": [
    "_ = np.zeros(5)  # [0] * 5\n",
    "_ = np.ones(10)  # [1] * 10\n",
    "_ = np.arange(10)  # [i for i in range(10)]\n",
    "_ = np.arange(5, 10, 2)  # [i for i in range(5, 10, 2)]\n",
    "_ = np.arange(1, 10, 0.1)  # шаг с плавающей точкой\n",
    "_ = np.linspace(1, 10, 100)  # почти то же самое, только указываем не шаг, а число точек\n",
    "_ = np.eye(3)  # создает единичную матрицу 3x3"
   ]
  },
  {
   "cell_type": "code",
   "execution_count": 3,
   "id": "7d9d34cc",
   "metadata": {
    "colab": {
     "base_uri": "https://localhost:8080/"
    },
    "id": "7d9d34cc",
    "outputId": "708d3727-2801-40e4-de5c-2790bc953862"
   },
   "outputs": [
    {
     "name": "stdout",
     "output_type": "stream",
     "text": [
      "(10, 3, 8)\n"
     ]
    }
   ],
   "source": [
    "x = np.zeros((10, 3, 8))  # инициализация массива 10х3х8\n",
    "print(x.shape)  # свойство, отвечающее за размеры массива вдоль разных осей, называется shape"
   ]
  },
  {
   "cell_type": "code",
   "execution_count": 4,
   "id": "3a1fa55d",
   "metadata": {
    "colab": {
     "base_uri": "https://localhost:8080/"
    },
    "id": "3a1fa55d",
    "outputId": "1ddbbabb-9833-4e38-e0ab-625c3f0b86b2"
   },
   "outputs": [],
   "source": [
    "python_list = np.zeros((3, 3)).tolist()  # можем получить как питоновский список из массива\n",
    "np_array = np.array(python_list)  # так и numpy-массив из списка"
   ]
  },
  {
   "cell_type": "markdown",
   "id": "hLBVkYIR-nWQ",
   "metadata": {
    "id": "hLBVkYIR-nWQ"
   },
   "source": [
    "### Векторизованные операции"
   ]
  },
  {
   "cell_type": "markdown",
   "id": "4XRCRVnu-2c6",
   "metadata": {
    "id": "4XRCRVnu-2c6"
   },
   "source": [
    "Сделаем два np-массива"
   ]
  },
  {
   "cell_type": "code",
   "execution_count": 5,
   "id": "Qyu_HEkQ_STw",
   "metadata": {
    "colab": {
     "base_uri": "https://localhost:8080/"
    },
    "id": "Qyu_HEkQ_STw",
    "outputId": "4e7aee89-a588-4a08-b21d-4e201da832f6"
   },
   "outputs": [
    {
     "name": "stdout",
     "output_type": "stream",
     "text": [
      "[1 2 3 4 5]\n",
      "[5 4 3 2 1]\n"
     ]
    }
   ],
   "source": [
    "a = np.arange(1, 6)\n",
    "b = a[::-1]\n",
    "\n",
    "# Обратное индексирование: пройдём весь массив a[:] с индексацией -1\n",
    "# a[-1] == a[len(a) - 1];\n",
    "# a[-2] == a[len(a) - 2];\n",
    "# ...\n",
    "# a[-len(a)] = a[len(a) - len(a)];\n",
    "\n",
    "print(a)\n",
    "print(b)"
   ]
  },
  {
   "cell_type": "markdown",
   "id": "NLvKdBCe-zuS",
   "metadata": {
    "id": "NLvKdBCe-zuS"
   },
   "source": [
    "Теперь умеем так:"
   ]
  },
  {
   "cell_type": "code",
   "execution_count": 6,
   "id": "e8bb0144",
   "metadata": {
    "colab": {
     "base_uri": "https://localhost:8080/"
    },
    "id": "e8bb0144",
    "outputId": "d40f0516-008c-460d-ad66-29095b93c814"
   },
   "outputs": [
    {
     "name": "stdout",
     "output_type": "stream",
     "text": [
      "[6 6 6 6 6]\n",
      "[5 8 9 8 5]\n",
      "[0.2 0.5 1.  2.  5. ]\n",
      "[-9 -8 -7 -6 -5]\n",
      "[0.5 1.  1.5 2.  2.5]\n",
      "[ 8.1300813 16.2601626 24.3902439 32.5203252 40.6504065]\n"
     ]
    }
   ],
   "source": [
    "print(a + b)\n",
    "print(a * b)\n",
    "print(a / b)\n",
    "print(a - 10)\n",
    "print(a * 0.5)\n",
    "print(a / 0.123)"
   ]
  },
  {
   "cell_type": "markdown",
   "id": "hf_RLqWX-6O7",
   "metadata": {
    "id": "hf_RLqWX-6O7"
   },
   "source": [
    "Что произойдёт, если попытаться сложить np.ones(3) и np.ones(5)?"
   ]
  },
  {
   "cell_type": "code",
   "execution_count": 7,
   "id": "Os2TKKy6-r9T",
   "metadata": {
    "colab": {
     "base_uri": "https://localhost:8080/"
    },
    "id": "Os2TKKy6-r9T",
    "outputId": "385ba668-2565-4f42-95f0-b408c9b2dd2d"
   },
   "outputs": [
    {
     "name": "stdout",
     "output_type": "stream",
     "text": [
      "15 15\n",
      "3.0 3.0\n",
      "1 1\n",
      "5 5\n",
      "3.0\n"
     ]
    }
   ],
   "source": [
    "print(np.sum(a), a.sum())\n",
    "print(np.mean(a), a.mean())\n",
    "print(np.min(a), a.min())\n",
    "print(np.max(a), a.max())\n",
    "\n",
    "# у np-массива нет функции медианы, но зато такая функция есть в модуле numpy\n",
    "# как думаете, почему?\n",
    "print(np.median(a))"
   ]
  },
  {
   "cell_type": "markdown",
   "id": "MLmPJAkU6oan",
   "metadata": {
    "id": "MLmPJAkU6oan"
   },
   "source": [
    "Оценим скорость векторизованных операций"
   ]
  },
  {
   "cell_type": "code",
   "execution_count": 8,
   "id": "4j_bjYtF6tzc",
   "metadata": {
    "id": "4j_bjYtF6tzc"
   },
   "outputs": [],
   "source": [
    "def rand_mul(a):\n",
    "    res = [0] * len(a)  # сэкономим время, заранее выделив память\n",
    "    rnd = np.random.random(len(a))\n",
    "    for i in range(len(a)):\n",
    "        res[i] = a[i] * rnd[i]\n",
    "    return res\n",
    "\n",
    "\n",
    "a = np.arange(10000)"
   ]
  },
  {
   "cell_type": "code",
   "execution_count": 9,
   "id": "8b0r4XBp_H6Z",
   "metadata": {
    "id": "8b0r4XBp_H6Z"
   },
   "outputs": [
    {
     "name": "stdout",
     "output_type": "stream",
     "text": [
      "18.6 ms ± 712 µs per loop (mean ± std. dev. of 7 runs, 10 loops each)\n"
     ]
    }
   ],
   "source": [
    "%timeit rand_mul(a)"
   ]
  },
  {
   "cell_type": "code",
   "execution_count": 10,
   "id": "6v7NPB5t66li",
   "metadata": {
    "colab": {
     "base_uri": "https://localhost:8080/"
    },
    "id": "6v7NPB5t66li",
    "outputId": "a6f07239-63bb-4ab0-ab0f-91a6ededf7e1"
   },
   "outputs": [
    {
     "name": "stdout",
     "output_type": "stream",
     "text": [
      "60.4 µs ± 6.73 µs per loop (mean ± std. dev. of 7 runs, 10,000 loops each)\n"
     ]
    }
   ],
   "source": [
    "%timeit a * np.random.random(10000)"
   ]
  },
  {
   "cell_type": "markdown",
   "id": "RLpy-PuV9V-h",
   "metadata": {
    "id": "RLpy-PuV9V-h"
   },
   "source": [
    "Примерно в **250** раз меньше времени на 1 операцию"
   ]
  },
  {
   "cell_type": "markdown",
   "id": "jucrJYmo_TI6",
   "metadata": {
    "id": "jucrJYmo_TI6"
   },
   "source": [
    "Есть полезная функция `np.vectorize`, в которую захочется пихать любой python-код. На самом деле есть ограничения на код, который можно распараллелить на уровне процессора.\n",
    "\n",
    "Найдите отличия между тремя циклами:"
   ]
  },
  {
   "cell_type": "markdown",
   "id": "zVSyDX-7_0z6",
   "metadata": {
    "id": "zVSyDX-7_0z6"
   },
   "source": [
    "Цикл 1 (можно векторизовать)\n",
    "```\n",
    "for i in range(n):\n",
    "    v[i] += a[i]\n",
    "```\n",
    "\n",
    "Цикл 2 (можно векторизовать)\n",
    "```\n",
    "for i in range(1, n - 1):\n",
    "    v[i + 1] += a[i - 1]\n",
    "```\n",
    "\n",
    "Цикл 3 (нельзя векторизовать)\n",
    "```\n",
    "for i in range(3, n):\n",
    "    v[i] = v[i - 1] + v[i - 2] + v[i - 3]\n",
    "```"
   ]
  },
  {
   "cell_type": "markdown",
   "id": "_jGVw_xuLXH9",
   "metadata": {
    "id": "_jGVw_xuLXH9"
   },
   "source": [
    "### Индексация. Маски. Функции по индексам"
   ]
  },
  {
   "cell_type": "markdown",
   "id": "12n3OWuSMUyM",
   "metadata": {
    "id": "12n3OWuSMUyM"
   },
   "source": [
    "Разберём несколько простых примеров на индексацию."
   ]
  },
  {
   "cell_type": "code",
   "execution_count": 11,
   "id": "THt8Jr_fCH2Y",
   "metadata": {
    "id": "THt8Jr_fCH2Y"
   },
   "outputs": [],
   "source": [
    "a = np.array([[1, 2, 3], [4, 5, 6]])"
   ]
  },
  {
   "cell_type": "code",
   "execution_count": 12,
   "id": "I7M9_YtXL9Sz",
   "metadata": {
    "colab": {
     "base_uri": "https://localhost:8080/"
    },
    "id": "I7M9_YtXL9Sz",
    "outputId": "3159bb6a-723f-4328-e424-84e616fdb9c5"
   },
   "outputs": [
    {
     "name": "stdout",
     "output_type": "stream",
     "text": [
      "1\n",
      "[[3 2 1]\n",
      " [6 5 4]]\n",
      "[[1 3]\n",
      " [4 6]]\n"
     ]
    }
   ],
   "source": [
    "print(a[0, 0]) # вместо a[0][0]\n",
    "print(a[:, ::-1])\n",
    "print(a[:, ::2])"
   ]
  },
  {
   "cell_type": "markdown",
   "id": "27tLaGl0LnRu",
   "metadata": {
    "id": "27tLaGl0LnRu"
   },
   "source": [
    "Логические операции, будучи применёнными к np.array, возвращают **маску** - другой массив, содержащий значения типа `bool`, которые показывают истинность или ложность проверяемого выражения для **каждого** элемента"
   ]
  },
  {
   "cell_type": "code",
   "execution_count": 13,
   "id": "jyKFD0JEP0YG",
   "metadata": {
    "colab": {
     "base_uri": "https://localhost:8080/"
    },
    "id": "jyKFD0JEP0YG",
    "outputId": "62af4cf9-490f-4db0-a703-2f15d280d295"
   },
   "outputs": [
    {
     "name": "stdout",
     "output_type": "stream",
     "text": [
      "[[False  True False]\n",
      " [ True False  True]]\n",
      "[[False False False]\n",
      " [ True  True  True]]\n"
     ]
    }
   ],
   "source": [
    "print(a % 2 == 0) # что вернёт a % 2?\n",
    "print(a > 3)"
   ]
  },
  {
   "cell_type": "markdown",
   "id": "7291bXCBQdmi",
   "metadata": {
    "id": "7291bXCBQdmi"
   },
   "source": [
    "Маски используются для итерации по исходному массиву:"
   ]
  },
  {
   "cell_type": "code",
   "execution_count": 14,
   "id": "yItWI2JQQUlp",
   "metadata": {
    "colab": {
     "base_uri": "https://localhost:8080/"
    },
    "id": "yItWI2JQQUlp",
    "outputId": "3d397100-4ca5-4895-ea82-e1667098700b"
   },
   "outputs": [
    {
     "name": "stdout",
     "output_type": "stream",
     "text": [
      "[2 4 6]\n",
      "[4 5 6]\n"
     ]
    }
   ],
   "source": [
    "print(a[a % 2 == 0])\n",
    "print(a[a > 3])"
   ]
  },
  {
   "cell_type": "markdown",
   "id": "bU6OzNX_RaKd",
   "metadata": {
    "id": "bU6OzNX_RaKd"
   },
   "source": [
    "Условия масок можно комбинировать через `&` и `|`, в этом случае каждое условие ограничивается скобками"
   ]
  },
  {
   "cell_type": "code",
   "execution_count": 15,
   "id": "R_yEsvRG9kEe",
   "metadata": {
    "colab": {
     "base_uri": "https://localhost:8080/"
    },
    "id": "R_yEsvRG9kEe",
    "outputId": "4b635f9a-8db1-4068-be17-11da19b4ef4c"
   },
   "outputs": [
    {
     "name": "stdout",
     "output_type": "stream",
     "text": [
      "[[False  True  True]\n",
      " [ True False False]]\n",
      "[4 6]\n",
      "[1 2 3 5]\n"
     ]
    }
   ],
   "source": [
    "print((a >= 2) & (a <= 4))\n",
    "\n",
    "print(a[(a % 2 == 0) & (a > 3)])\n",
    "print(a[(a % 2 == 1) | (a <= 3)])"
   ]
  },
  {
   "cell_type": "markdown",
   "id": "1o8Yqa9XDs4e",
   "metadata": {
    "id": "1o8Yqa9XDs4e"
   },
   "source": [
    "## Pandas"
   ]
  },
  {
   "cell_type": "code",
   "execution_count": 16,
   "id": "fILwF0a8Du52",
   "metadata": {
    "id": "fILwF0a8Du52"
   },
   "outputs": [],
   "source": [
    "import pandas as pd  # pd - общепринятый алиас для библиотеки pandas"
   ]
  },
  {
   "cell_type": "markdown",
   "id": "HMoIXzo2D4aG",
   "metadata": {
    "id": "HMoIXzo2D4aG"
   },
   "source": [
    "### Датафреймы, Ряды"
   ]
  },
  {
   "cell_type": "markdown",
   "id": "8UuOU7RjoTc3",
   "metadata": {
    "id": "8UuOU7RjoTc3"
   },
   "source": [
    "Основная структура, используемая в pandas - DataFrame. По сути представляет из себя удобную таблицу, с которой можно работать и как с таблицей, и как с numpy-массивом"
   ]
  },
  {
   "cell_type": "code",
   "execution_count": 17,
   "id": "-nJZ_iMQvgFI",
   "metadata": {
    "id": "-nJZ_iMQvgFI"
   },
   "outputs": [
    {
     "ename": "FileNotFoundError",
     "evalue": "[Errno 2] No such file or directory: 'path/to/file.csv'",
     "output_type": "error",
     "traceback": [
      "\u001b[1;31m---------------------------------------------------------------------------\u001b[0m",
      "\u001b[1;31mFileNotFoundError\u001b[0m                         Traceback (most recent call last)",
      "Input \u001b[1;32mIn [17]\u001b[0m, in \u001b[0;36m<cell line: 1>\u001b[1;34m()\u001b[0m\n\u001b[1;32m----> 1\u001b[0m _ \u001b[38;5;241m=\u001b[39m \u001b[43mpd\u001b[49m\u001b[38;5;241;43m.\u001b[39;49m\u001b[43mread_csv\u001b[49m\u001b[43m(\u001b[49m\u001b[38;5;124;43m'\u001b[39;49m\u001b[38;5;124;43mpath/to/file.csv\u001b[39;49m\u001b[38;5;124;43m'\u001b[39;49m\u001b[43m)\u001b[49m  \u001b[38;5;66;03m# можем считать из csv-файла\u001b[39;00m\n\u001b[0;32m      2\u001b[0m _ \u001b[38;5;241m=\u001b[39m pd\u001b[38;5;241m.\u001b[39mread_excel(\u001b[38;5;124m'\u001b[39m\u001b[38;5;124mpath/to/excel.xlsx\u001b[39m\u001b[38;5;124m'\u001b[39m)  \u001b[38;5;66;03m# можем считать из excel-файла (но с некоторыми ограничениями)\u001b[39;00m\n\u001b[0;32m      4\u001b[0m _ \u001b[38;5;241m=\u001b[39m pd\u001b[38;5;241m.\u001b[39mDataFrame(data\u001b[38;5;241m=\u001b[39m[(\u001b[38;5;241m1\u001b[39m, \u001b[38;5;124m'\u001b[39m\u001b[38;5;124ma\u001b[39m\u001b[38;5;124m'\u001b[39m), (\u001b[38;5;241m3\u001b[39m, \u001b[38;5;124m'\u001b[39m\u001b[38;5;124mb\u001b[39m\u001b[38;5;124m'\u001b[39m), (\u001b[38;5;241m2\u001b[39m, \u001b[38;5;124m'\u001b[39m\u001b[38;5;124mc\u001b[39m\u001b[38;5;124m'\u001b[39m)], columns\u001b[38;5;241m=\u001b[39m[\u001b[38;5;124m'\u001b[39m\u001b[38;5;124mnum\u001b[39m\u001b[38;5;124m'\u001b[39m, \u001b[38;5;124m'\u001b[39m\u001b[38;5;124mchar\u001b[39m\u001b[38;5;124m'\u001b[39m])  \u001b[38;5;66;03m# можем инициализировать из обычных списков\u001b[39;00m\n",
      "File \u001b[1;32mC:\\Anaconda3\\lib\\site-packages\\pandas\\util\\_decorators.py:311\u001b[0m, in \u001b[0;36mdeprecate_nonkeyword_arguments.<locals>.decorate.<locals>.wrapper\u001b[1;34m(*args, **kwargs)\u001b[0m\n\u001b[0;32m    305\u001b[0m \u001b[38;5;28;01mif\u001b[39;00m \u001b[38;5;28mlen\u001b[39m(args) \u001b[38;5;241m>\u001b[39m num_allow_args:\n\u001b[0;32m    306\u001b[0m     warnings\u001b[38;5;241m.\u001b[39mwarn(\n\u001b[0;32m    307\u001b[0m         msg\u001b[38;5;241m.\u001b[39mformat(arguments\u001b[38;5;241m=\u001b[39marguments),\n\u001b[0;32m    308\u001b[0m         \u001b[38;5;167;01mFutureWarning\u001b[39;00m,\n\u001b[0;32m    309\u001b[0m         stacklevel\u001b[38;5;241m=\u001b[39mstacklevel,\n\u001b[0;32m    310\u001b[0m     )\n\u001b[1;32m--> 311\u001b[0m \u001b[38;5;28;01mreturn\u001b[39;00m func(\u001b[38;5;241m*\u001b[39margs, \u001b[38;5;241m*\u001b[39m\u001b[38;5;241m*\u001b[39mkwargs)\n",
      "File \u001b[1;32mC:\\Anaconda3\\lib\\site-packages\\pandas\\io\\parsers\\readers.py:680\u001b[0m, in \u001b[0;36mread_csv\u001b[1;34m(filepath_or_buffer, sep, delimiter, header, names, index_col, usecols, squeeze, prefix, mangle_dupe_cols, dtype, engine, converters, true_values, false_values, skipinitialspace, skiprows, skipfooter, nrows, na_values, keep_default_na, na_filter, verbose, skip_blank_lines, parse_dates, infer_datetime_format, keep_date_col, date_parser, dayfirst, cache_dates, iterator, chunksize, compression, thousands, decimal, lineterminator, quotechar, quoting, doublequote, escapechar, comment, encoding, encoding_errors, dialect, error_bad_lines, warn_bad_lines, on_bad_lines, delim_whitespace, low_memory, memory_map, float_precision, storage_options)\u001b[0m\n\u001b[0;32m    665\u001b[0m kwds_defaults \u001b[38;5;241m=\u001b[39m _refine_defaults_read(\n\u001b[0;32m    666\u001b[0m     dialect,\n\u001b[0;32m    667\u001b[0m     delimiter,\n\u001b[1;32m   (...)\u001b[0m\n\u001b[0;32m    676\u001b[0m     defaults\u001b[38;5;241m=\u001b[39m{\u001b[38;5;124m\"\u001b[39m\u001b[38;5;124mdelimiter\u001b[39m\u001b[38;5;124m\"\u001b[39m: \u001b[38;5;124m\"\u001b[39m\u001b[38;5;124m,\u001b[39m\u001b[38;5;124m\"\u001b[39m},\n\u001b[0;32m    677\u001b[0m )\n\u001b[0;32m    678\u001b[0m kwds\u001b[38;5;241m.\u001b[39mupdate(kwds_defaults)\n\u001b[1;32m--> 680\u001b[0m \u001b[38;5;28;01mreturn\u001b[39;00m \u001b[43m_read\u001b[49m\u001b[43m(\u001b[49m\u001b[43mfilepath_or_buffer\u001b[49m\u001b[43m,\u001b[49m\u001b[43m \u001b[49m\u001b[43mkwds\u001b[49m\u001b[43m)\u001b[49m\n",
      "File \u001b[1;32mC:\\Anaconda3\\lib\\site-packages\\pandas\\io\\parsers\\readers.py:575\u001b[0m, in \u001b[0;36m_read\u001b[1;34m(filepath_or_buffer, kwds)\u001b[0m\n\u001b[0;32m    572\u001b[0m _validate_names(kwds\u001b[38;5;241m.\u001b[39mget(\u001b[38;5;124m\"\u001b[39m\u001b[38;5;124mnames\u001b[39m\u001b[38;5;124m\"\u001b[39m, \u001b[38;5;28;01mNone\u001b[39;00m))\n\u001b[0;32m    574\u001b[0m \u001b[38;5;66;03m# Create the parser.\u001b[39;00m\n\u001b[1;32m--> 575\u001b[0m parser \u001b[38;5;241m=\u001b[39m TextFileReader(filepath_or_buffer, \u001b[38;5;241m*\u001b[39m\u001b[38;5;241m*\u001b[39mkwds)\n\u001b[0;32m    577\u001b[0m \u001b[38;5;28;01mif\u001b[39;00m chunksize \u001b[38;5;129;01mor\u001b[39;00m iterator:\n\u001b[0;32m    578\u001b[0m     \u001b[38;5;28;01mreturn\u001b[39;00m parser\n",
      "File \u001b[1;32mC:\\Anaconda3\\lib\\site-packages\\pandas\\io\\parsers\\readers.py:933\u001b[0m, in \u001b[0;36mTextFileReader.__init__\u001b[1;34m(self, f, engine, **kwds)\u001b[0m\n\u001b[0;32m    930\u001b[0m     \u001b[38;5;28mself\u001b[39m\u001b[38;5;241m.\u001b[39moptions[\u001b[38;5;124m\"\u001b[39m\u001b[38;5;124mhas_index_names\u001b[39m\u001b[38;5;124m\"\u001b[39m] \u001b[38;5;241m=\u001b[39m kwds[\u001b[38;5;124m\"\u001b[39m\u001b[38;5;124mhas_index_names\u001b[39m\u001b[38;5;124m\"\u001b[39m]\n\u001b[0;32m    932\u001b[0m \u001b[38;5;28mself\u001b[39m\u001b[38;5;241m.\u001b[39mhandles: IOHandles \u001b[38;5;241m|\u001b[39m \u001b[38;5;28;01mNone\u001b[39;00m \u001b[38;5;241m=\u001b[39m \u001b[38;5;28;01mNone\u001b[39;00m\n\u001b[1;32m--> 933\u001b[0m \u001b[38;5;28mself\u001b[39m\u001b[38;5;241m.\u001b[39m_engine \u001b[38;5;241m=\u001b[39m \u001b[38;5;28;43mself\u001b[39;49m\u001b[38;5;241;43m.\u001b[39;49m\u001b[43m_make_engine\u001b[49m\u001b[43m(\u001b[49m\u001b[43mf\u001b[49m\u001b[43m,\u001b[49m\u001b[43m \u001b[49m\u001b[38;5;28;43mself\u001b[39;49m\u001b[38;5;241;43m.\u001b[39;49m\u001b[43mengine\u001b[49m\u001b[43m)\u001b[49m\n",
      "File \u001b[1;32mC:\\Anaconda3\\lib\\site-packages\\pandas\\io\\parsers\\readers.py:1217\u001b[0m, in \u001b[0;36mTextFileReader._make_engine\u001b[1;34m(self, f, engine)\u001b[0m\n\u001b[0;32m   1213\u001b[0m     mode \u001b[38;5;241m=\u001b[39m \u001b[38;5;124m\"\u001b[39m\u001b[38;5;124mrb\u001b[39m\u001b[38;5;124m\"\u001b[39m\n\u001b[0;32m   1214\u001b[0m \u001b[38;5;66;03m# error: No overload variant of \"get_handle\" matches argument types\u001b[39;00m\n\u001b[0;32m   1215\u001b[0m \u001b[38;5;66;03m# \"Union[str, PathLike[str], ReadCsvBuffer[bytes], ReadCsvBuffer[str]]\"\u001b[39;00m\n\u001b[0;32m   1216\u001b[0m \u001b[38;5;66;03m# , \"str\", \"bool\", \"Any\", \"Any\", \"Any\", \"Any\", \"Any\"\u001b[39;00m\n\u001b[1;32m-> 1217\u001b[0m \u001b[38;5;28mself\u001b[39m\u001b[38;5;241m.\u001b[39mhandles \u001b[38;5;241m=\u001b[39m \u001b[43mget_handle\u001b[49m\u001b[43m(\u001b[49m\u001b[43m  \u001b[49m\u001b[38;5;66;43;03m# type: ignore[call-overload]\u001b[39;49;00m\n\u001b[0;32m   1218\u001b[0m \u001b[43m    \u001b[49m\u001b[43mf\u001b[49m\u001b[43m,\u001b[49m\n\u001b[0;32m   1219\u001b[0m \u001b[43m    \u001b[49m\u001b[43mmode\u001b[49m\u001b[43m,\u001b[49m\n\u001b[0;32m   1220\u001b[0m \u001b[43m    \u001b[49m\u001b[43mencoding\u001b[49m\u001b[38;5;241;43m=\u001b[39;49m\u001b[38;5;28;43mself\u001b[39;49m\u001b[38;5;241;43m.\u001b[39;49m\u001b[43moptions\u001b[49m\u001b[38;5;241;43m.\u001b[39;49m\u001b[43mget\u001b[49m\u001b[43m(\u001b[49m\u001b[38;5;124;43m\"\u001b[39;49m\u001b[38;5;124;43mencoding\u001b[39;49m\u001b[38;5;124;43m\"\u001b[39;49m\u001b[43m,\u001b[49m\u001b[43m \u001b[49m\u001b[38;5;28;43;01mNone\u001b[39;49;00m\u001b[43m)\u001b[49m\u001b[43m,\u001b[49m\n\u001b[0;32m   1221\u001b[0m \u001b[43m    \u001b[49m\u001b[43mcompression\u001b[49m\u001b[38;5;241;43m=\u001b[39;49m\u001b[38;5;28;43mself\u001b[39;49m\u001b[38;5;241;43m.\u001b[39;49m\u001b[43moptions\u001b[49m\u001b[38;5;241;43m.\u001b[39;49m\u001b[43mget\u001b[49m\u001b[43m(\u001b[49m\u001b[38;5;124;43m\"\u001b[39;49m\u001b[38;5;124;43mcompression\u001b[39;49m\u001b[38;5;124;43m\"\u001b[39;49m\u001b[43m,\u001b[49m\u001b[43m \u001b[49m\u001b[38;5;28;43;01mNone\u001b[39;49;00m\u001b[43m)\u001b[49m\u001b[43m,\u001b[49m\n\u001b[0;32m   1222\u001b[0m \u001b[43m    \u001b[49m\u001b[43mmemory_map\u001b[49m\u001b[38;5;241;43m=\u001b[39;49m\u001b[38;5;28;43mself\u001b[39;49m\u001b[38;5;241;43m.\u001b[39;49m\u001b[43moptions\u001b[49m\u001b[38;5;241;43m.\u001b[39;49m\u001b[43mget\u001b[49m\u001b[43m(\u001b[49m\u001b[38;5;124;43m\"\u001b[39;49m\u001b[38;5;124;43mmemory_map\u001b[39;49m\u001b[38;5;124;43m\"\u001b[39;49m\u001b[43m,\u001b[49m\u001b[43m \u001b[49m\u001b[38;5;28;43;01mFalse\u001b[39;49;00m\u001b[43m)\u001b[49m\u001b[43m,\u001b[49m\n\u001b[0;32m   1223\u001b[0m \u001b[43m    \u001b[49m\u001b[43mis_text\u001b[49m\u001b[38;5;241;43m=\u001b[39;49m\u001b[43mis_text\u001b[49m\u001b[43m,\u001b[49m\n\u001b[0;32m   1224\u001b[0m \u001b[43m    \u001b[49m\u001b[43merrors\u001b[49m\u001b[38;5;241;43m=\u001b[39;49m\u001b[38;5;28;43mself\u001b[39;49m\u001b[38;5;241;43m.\u001b[39;49m\u001b[43moptions\u001b[49m\u001b[38;5;241;43m.\u001b[39;49m\u001b[43mget\u001b[49m\u001b[43m(\u001b[49m\u001b[38;5;124;43m\"\u001b[39;49m\u001b[38;5;124;43mencoding_errors\u001b[39;49m\u001b[38;5;124;43m\"\u001b[39;49m\u001b[43m,\u001b[49m\u001b[43m \u001b[49m\u001b[38;5;124;43m\"\u001b[39;49m\u001b[38;5;124;43mstrict\u001b[39;49m\u001b[38;5;124;43m\"\u001b[39;49m\u001b[43m)\u001b[49m\u001b[43m,\u001b[49m\n\u001b[0;32m   1225\u001b[0m \u001b[43m    \u001b[49m\u001b[43mstorage_options\u001b[49m\u001b[38;5;241;43m=\u001b[39;49m\u001b[38;5;28;43mself\u001b[39;49m\u001b[38;5;241;43m.\u001b[39;49m\u001b[43moptions\u001b[49m\u001b[38;5;241;43m.\u001b[39;49m\u001b[43mget\u001b[49m\u001b[43m(\u001b[49m\u001b[38;5;124;43m\"\u001b[39;49m\u001b[38;5;124;43mstorage_options\u001b[39;49m\u001b[38;5;124;43m\"\u001b[39;49m\u001b[43m,\u001b[49m\u001b[43m \u001b[49m\u001b[38;5;28;43;01mNone\u001b[39;49;00m\u001b[43m)\u001b[49m\u001b[43m,\u001b[49m\n\u001b[0;32m   1226\u001b[0m \u001b[43m\u001b[49m\u001b[43m)\u001b[49m\n\u001b[0;32m   1227\u001b[0m \u001b[38;5;28;01massert\u001b[39;00m \u001b[38;5;28mself\u001b[39m\u001b[38;5;241m.\u001b[39mhandles \u001b[38;5;129;01mis\u001b[39;00m \u001b[38;5;129;01mnot\u001b[39;00m \u001b[38;5;28;01mNone\u001b[39;00m\n\u001b[0;32m   1228\u001b[0m f \u001b[38;5;241m=\u001b[39m \u001b[38;5;28mself\u001b[39m\u001b[38;5;241m.\u001b[39mhandles\u001b[38;5;241m.\u001b[39mhandle\n",
      "File \u001b[1;32mC:\\Anaconda3\\lib\\site-packages\\pandas\\io\\common.py:789\u001b[0m, in \u001b[0;36mget_handle\u001b[1;34m(path_or_buf, mode, encoding, compression, memory_map, is_text, errors, storage_options)\u001b[0m\n\u001b[0;32m    784\u001b[0m \u001b[38;5;28;01melif\u001b[39;00m \u001b[38;5;28misinstance\u001b[39m(handle, \u001b[38;5;28mstr\u001b[39m):\n\u001b[0;32m    785\u001b[0m     \u001b[38;5;66;03m# Check whether the filename is to be opened in binary mode.\u001b[39;00m\n\u001b[0;32m    786\u001b[0m     \u001b[38;5;66;03m# Binary mode does not support 'encoding' and 'newline'.\u001b[39;00m\n\u001b[0;32m    787\u001b[0m     \u001b[38;5;28;01mif\u001b[39;00m ioargs\u001b[38;5;241m.\u001b[39mencoding \u001b[38;5;129;01mand\u001b[39;00m \u001b[38;5;124m\"\u001b[39m\u001b[38;5;124mb\u001b[39m\u001b[38;5;124m\"\u001b[39m \u001b[38;5;129;01mnot\u001b[39;00m \u001b[38;5;129;01min\u001b[39;00m ioargs\u001b[38;5;241m.\u001b[39mmode:\n\u001b[0;32m    788\u001b[0m         \u001b[38;5;66;03m# Encoding\u001b[39;00m\n\u001b[1;32m--> 789\u001b[0m         handle \u001b[38;5;241m=\u001b[39m \u001b[38;5;28;43mopen\u001b[39;49m\u001b[43m(\u001b[49m\n\u001b[0;32m    790\u001b[0m \u001b[43m            \u001b[49m\u001b[43mhandle\u001b[49m\u001b[43m,\u001b[49m\n\u001b[0;32m    791\u001b[0m \u001b[43m            \u001b[49m\u001b[43mioargs\u001b[49m\u001b[38;5;241;43m.\u001b[39;49m\u001b[43mmode\u001b[49m\u001b[43m,\u001b[49m\n\u001b[0;32m    792\u001b[0m \u001b[43m            \u001b[49m\u001b[43mencoding\u001b[49m\u001b[38;5;241;43m=\u001b[39;49m\u001b[43mioargs\u001b[49m\u001b[38;5;241;43m.\u001b[39;49m\u001b[43mencoding\u001b[49m\u001b[43m,\u001b[49m\n\u001b[0;32m    793\u001b[0m \u001b[43m            \u001b[49m\u001b[43merrors\u001b[49m\u001b[38;5;241;43m=\u001b[39;49m\u001b[43merrors\u001b[49m\u001b[43m,\u001b[49m\n\u001b[0;32m    794\u001b[0m \u001b[43m            \u001b[49m\u001b[43mnewline\u001b[49m\u001b[38;5;241;43m=\u001b[39;49m\u001b[38;5;124;43m\"\u001b[39;49m\u001b[38;5;124;43m\"\u001b[39;49m\u001b[43m,\u001b[49m\n\u001b[0;32m    795\u001b[0m \u001b[43m        \u001b[49m\u001b[43m)\u001b[49m\n\u001b[0;32m    796\u001b[0m     \u001b[38;5;28;01melse\u001b[39;00m:\n\u001b[0;32m    797\u001b[0m         \u001b[38;5;66;03m# Binary mode\u001b[39;00m\n\u001b[0;32m    798\u001b[0m         handle \u001b[38;5;241m=\u001b[39m \u001b[38;5;28mopen\u001b[39m(handle, ioargs\u001b[38;5;241m.\u001b[39mmode)\n",
      "\u001b[1;31mFileNotFoundError\u001b[0m: [Errno 2] No such file or directory: 'path/to/file.csv'"
     ]
    }
   ],
   "source": [
    "_ = pd.read_csv('path/to/file.csv')  # можем считать из csv-файла\n",
    "_ = pd.read_excel('path/to/excel.xlsx')  # можем считать из excel-файла (но с некоторыми ограничениями)\n",
    "\n",
    "_ = pd.DataFrame(data=[(1, 'a'), (3, 'b'), (2, 'c')], columns=['num', 'char'])  # можем инициализировать из обычных списков\n",
    "_ = pd.DataFrame(data={'num': [1, 3, 2], 'char': ['a', 'b', 'c']})  # можем инициализировать из словаря\n",
    "                                                                    # ключ - название колонки, значение - элементы столбца"
   ]
  },
  {
   "cell_type": "markdown",
   "id": "C4PgDNX2ptOX",
   "metadata": {
    "id": "C4PgDNX2ptOX"
   },
   "source": [
    "Внутри датафрейм состоит из т.н. рядов, как вдоль строк, так и вдоль столбцов. Ряд - это специальный тип `Series`, который является полноценным расширением numpy-массивов, при этом предоставляя разные табличные функции."
   ]
  },
  {
   "cell_type": "code",
   "execution_count": null,
   "id": "YkeqCImMwRrS",
   "metadata": {
    "colab": {
     "base_uri": "https://localhost:8080/"
    },
    "id": "YkeqCImMwRrS",
    "outputId": "ab62d8df-f17d-4a12-922d-28f87418a00d"
   },
   "outputs": [],
   "source": [
    "!gdown 1uOH6YMfSPhGAcneQQST_OtrbmdME9g25 --out dataset.csv"
   ]
  },
  {
   "cell_type": "code",
   "execution_count": null,
   "id": "rlXIBDAhrnm2",
   "metadata": {
    "colab": {
     "base_uri": "https://localhost:8080/"
    },
    "id": "rlXIBDAhrnm2",
    "outputId": "112ff437-45ff-418f-f383-4b063cbc17e6"
   },
   "outputs": [],
   "source": [
    "df = pd.read_csv('dataset.csv')"
   ]
  },
  {
   "cell_type": "code",
   "execution_count": null,
   "id": "nM6Pjm5NsUyF",
   "metadata": {
    "colab": {
     "base_uri": "https://localhost:8080/",
     "height": 386
    },
    "id": "nM6Pjm5NsUyF",
    "outputId": "56cd00be-f8d5-4e3c-a63a-da07954440af"
   },
   "outputs": [],
   "source": [
    "df.head()  # отображает содержимое первых пяти строк"
   ]
  },
  {
   "cell_type": "code",
   "execution_count": null,
   "id": "xmjLZTYjwwiy",
   "metadata": {
    "colab": {
     "base_uri": "https://localhost:8080/",
     "height": 386
    },
    "id": "xmjLZTYjwwiy",
    "outputId": "969ae9ea-e2e6-4e84-ce25-6012ebc9ade6"
   },
   "outputs": [],
   "source": [
    "df.sample(5)  # отображает содержимое !СЛУЧАЙНЫХ! 5 строк"
   ]
  },
  {
   "cell_type": "markdown",
   "id": "nrWCSFNOx0z4",
   "metadata": {
    "id": "nrWCSFNOx0z4"
   },
   "source": [
    "Если название колонки соответствует допустимому питоновскому имени, то к колонке можно обращаться через точку"
   ]
  },
  {
   "cell_type": "code",
   "execution_count": null,
   "id": "XTSHR-qhxU9C",
   "metadata": {
    "colab": {
     "base_uri": "https://localhost:8080/"
    },
    "id": "XTSHR-qhxU9C",
    "outputId": "f0b95fd5-f00c-4579-9cab-6ba98d0a79b0"
   },
   "outputs": [],
   "source": [
    "df.city.sample(5)"
   ]
  },
  {
   "cell_type": "markdown",
   "id": "ntNSEk-Gx3f5",
   "metadata": {
    "id": "ntNSEk-Gx3f5"
   },
   "source": [
    "В общем случае к колонкам можно обращаться через индексацию (квадратные скобки)"
   ]
  },
  {
   "cell_type": "code",
   "execution_count": null,
   "id": "212eCfVMx6vg",
   "metadata": {
    "colab": {
     "base_uri": "https://localhost:8080/"
    },
    "id": "212eCfVMx6vg",
    "outputId": "f87ffcc7-a628-427d-81e5-72a73f0ec7a1"
   },
   "outputs": [],
   "source": [
    "df['floor'].sample(5)"
   ]
  },
  {
   "cell_type": "code",
   "execution_count": null,
   "id": "u_YasvYPyRCh",
   "metadata": {
    "colab": {
     "base_uri": "https://localhost:8080/"
    },
    "id": "u_YasvYPyRCh",
    "outputId": "93601cdb-be0e-4f27-85df-2bc807870f7b"
   },
   "outputs": [],
   "source": [
    "type(df.city)"
   ]
  },
  {
   "cell_type": "markdown",
   "id": "_6ik3kh-D9id",
   "metadata": {
    "id": "_6ik3kh-D9id"
   },
   "source": [
    "### Индексация"
   ]
  },
  {
   "cell_type": "markdown",
   "id": "lIoXOZNCzzK4",
   "metadata": {
    "id": "lIoXOZNCzzK4"
   },
   "source": [
    "Получить значение из ячейки датафрейма по строке и столбцу - нетривиальная задача. Например, если мы просто напишем `df[0, 0]`, то мы получим ошибку"
   ]
  },
  {
   "cell_type": "code",
   "execution_count": null,
   "id": "bLkBBk0Hz_D4",
   "metadata": {
    "colab": {
     "base_uri": "https://localhost:8080/",
     "height": 501
    },
    "id": "bLkBBk0Hz_D4",
    "outputId": "d29a762b-f0de-42f2-cda0-3f916f2e8962"
   },
   "outputs": [],
   "source": [
    "df[0, 0]"
   ]
  },
  {
   "cell_type": "markdown",
   "id": "j6BvgDPcyl75",
   "metadata": {
    "id": "j6BvgDPcyl75"
   },
   "source": [
    "В pandas у ячеек есть две очевидные координаты - строка и столбец. Если хотим указать, по какому столбцу мы хотим искать ячейку, нам надо использовать название этого столбца.\n",
    "\n",
    "У расположения по строке есть две основные опции:\n",
    "- Номер строки (привычный нам индекс элемента в массиве)\n",
    "- Индекс строки\n",
    "\n",
    "Индексом в датафрейме называется специальный массив, который хранит набор уникальных обозначений для каждой строки. По умолчанию индекс совпадает с нумерацией строк, но некоторые операции над датафреймами меняют индекс, из-за чего может возникнуть путаница.\n",
    "\n",
    "Кажется, что всё просто, да?"
   ]
  },
  {
   "cell_type": "code",
   "execution_count": null,
   "id": "VSQXWXGdEAG3",
   "metadata": {
    "colab": {
     "base_uri": "https://localhost:8080/",
     "height": 501
    },
    "id": "VSQXWXGdEAG3",
    "outputId": "32d6faf6-f6ea-4129-d0e9-90e7eee18a45"
   },
   "outputs": [],
   "source": [
    "df[0, 'city']"
   ]
  },
  {
   "cell_type": "markdown",
   "id": "xnJC3cN30zSf",
   "metadata": {
    "id": "xnJC3cN30zSf"
   },
   "source": [
    "Оказывается, что для индексации по датафрейму используются два отдельных свойства: `loc` и `iloc`. При этом `loc` использует стандартный индекс pandas, а `iloc` - привычную нам индексацию от 0 до `n-1`."
   ]
  },
  {
   "cell_type": "code",
   "execution_count": null,
   "id": "boP7ZWZc0cKD",
   "metadata": {
    "colab": {
     "base_uri": "https://localhost:8080/"
    },
    "id": "boP7ZWZc0cKD",
    "outputId": "1ff4bedd-f5f1-4d74-9681-13a66bbedf04"
   },
   "outputs": [],
   "source": [
    "print(df.loc[0, 'city'], df.iloc[0, 0])"
   ]
  },
  {
   "cell_type": "code",
   "execution_count": null,
   "id": "LQU1y1hy1ZDm",
   "metadata": {
    "colab": {
     "base_uri": "https://localhost:8080/",
     "height": 501
    },
    "id": "LQU1y1hy1ZDm",
    "outputId": "f5c3edef-e879-44ae-97d4-5698b636f4fd"
   },
   "outputs": [],
   "source": [
    "print(df.loc[0, 0])  # loc не умеет работать с целочисленными индексами"
   ]
  },
  {
   "cell_type": "code",
   "execution_count": null,
   "id": "NgpacKG31e0O",
   "metadata": {
    "colab": {
     "base_uri": "https://localhost:8080/",
     "height": 432
    },
    "id": "NgpacKG31e0O",
    "outputId": "52567ee2-c964-44ce-e3c7-55b488d7d287"
   },
   "outputs": [],
   "source": [
    "df.iloc[0, 'city']  # в то время как iloc не умеет работать со строковыми индексами"
   ]
  },
  {
   "cell_type": "markdown",
   "id": "TH4nbHwt15A-",
   "metadata": {
    "id": "TH4nbHwt15A-"
   },
   "source": [
    "В остальном у индексации по датафреймам есть те же возможности, что и у индексации по numpy-массивам - маски и применение этих масок"
   ]
  },
  {
   "cell_type": "code",
   "execution_count": null,
   "id": "72u-MChd2Pdu",
   "metadata": {
    "colab": {
     "base_uri": "https://localhost:8080/"
    },
    "id": "72u-MChd2Pdu",
    "outputId": "6fc420bc-bd1b-42c6-a13c-85bf46f5ad61"
   },
   "outputs": [],
   "source": [
    "len(df.loc[df.city == 'Пермь'])  # сколько строк в датафрейме имеют значение \"Пермь\" в колонке city?"
   ]
  },
  {
   "cell_type": "code",
   "execution_count": null,
   "id": "0UpQRm5d3ZRF",
   "metadata": {
    "colab": {
     "base_uri": "https://localhost:8080/",
     "height": 386
    },
    "id": "0UpQRm5d3ZRF",
    "outputId": "c4d95653-3593-4514-a73e-2daf00d8fa2f"
   },
   "outputs": [],
   "source": [
    "df.loc[df.floor.isna()].sample(5)  # случайные 5 строк из всех, имеющих NaN в колонке floor"
   ]
  },
  {
   "cell_type": "code",
   "execution_count": null,
   "id": "VKBlWmeE3qHl",
   "metadata": {
    "colab": {
     "base_uri": "https://localhost:8080/"
    },
    "id": "VKBlWmeE3qHl",
    "outputId": "6a54ec38-9a50-486a-a39d-f7fa36364557"
   },
   "outputs": [],
   "source": [
    "len(df.loc[df.total_square > 200]) / len(df)  # какая доля объявлений предлагает площадь собственности от 200 м^2?"
   ]
  },
  {
   "cell_type": "markdown",
   "id": "zuzgxv08EAgd",
   "metadata": {
    "id": "zuzgxv08EAgd"
   },
   "source": [
    "### Разные преобразования"
   ]
  },
  {
   "cell_type": "markdown",
   "id": "pcpzGifkOd1j",
   "metadata": {
    "id": "pcpzGifkOd1j"
   },
   "source": [
    "Что можно делать со столбцами в датафрейме?\n",
    "- Можно применять к ним любые математические операции\n",
    "- Можно сложить, умножить и т.д. два столбца в датафрейме, если они обе числовые\n",
    "- К столбцу можно применить любую специфическую функцию\n",
    "- Создавать новые столбцы, удалять, переименовывать\n",
    "- Модифицировать столбцы по слайсу"
   ]
  },
  {
   "cell_type": "code",
   "execution_count": null,
   "id": "WX6n_RZUECd8",
   "metadata": {
    "id": "WX6n_RZUECd8"
   },
   "outputs": [],
   "source": [
    "df = pd.DataFrame(data={\n",
    "    'num1': [0.1583017 , -0.54775732,  1.49827325,  1.20037232, -1.29960477, -1.7931545 ],\n",
    "    'num2': [4, 0, 5, 15, -13, 10],\n",
    "    'str1': ['a', 'b', 'c', 'd', 'e', 'f'],\n",
    "    'str2': ['z', 'y', 'x', 'w', 'v', 'u'],\n",
    "    'to_delete': ['a1', 'b2', 'c3', 'd4', 'e5', 'f6'],\n",
    "    'to_rename': ['z1', 'y2', 'x3', 'w4', 'v5', 'u6'],\n",
    "})"
   ]
  },
  {
   "cell_type": "code",
   "execution_count": null,
   "id": "VlXcICR8Qxzy",
   "metadata": {
    "colab": {
     "base_uri": "https://localhost:8080/",
     "height": 206
    },
    "id": "VlXcICR8Qxzy",
    "outputId": "4a6d4999-7c41-4373-d1a5-8f26e5e4606b"
   },
   "outputs": [],
   "source": [
    "df.num1 *= 3  # умножим все значения в столбце num1 на 3\n",
    "df.head()"
   ]
  },
  {
   "cell_type": "code",
   "execution_count": null,
   "id": "CxvlUNYIQ5SC",
   "metadata": {
    "colab": {
     "base_uri": "https://localhost:8080/",
     "height": 206
    },
    "id": "CxvlUNYIQ5SC",
    "outputId": "16736d3e-afad-446e-a3f8-4c7580d8cf8d"
   },
   "outputs": [],
   "source": [
    "df['num3'] = df.num1 + df.num2  # создадим новый столбец num3, являющийся суммой столбцов num1 и num2\n",
    "df.head()"
   ]
  },
  {
   "cell_type": "code",
   "execution_count": null,
   "id": "cfwdqzzqRFT7",
   "metadata": {
    "colab": {
     "base_uri": "https://localhost:8080/",
     "height": 206
    },
    "id": "cfwdqzzqRFT7",
    "outputId": "35c51d45-a664-4127-9d21-834ff57ed19b"
   },
   "outputs": [],
   "source": [
    "df_new = df.drop(columns=['to_delete']).rename(columns={'to_rename': 'after_rename'})\n",
    "# функции модификации типа drop/rename и т.д. возвращают новый датафрейм\n",
    "df_new.head()"
   ]
  },
  {
   "cell_type": "code",
   "execution_count": null,
   "id": "7zhn7Ri_TmMg",
   "metadata": {
    "colab": {
     "base_uri": "https://localhost:8080/",
     "height": 206
    },
    "id": "7zhn7Ri_TmMg",
    "outputId": "1038cf1e-97df-4524-8b2d-85cd37bc697a"
   },
   "outputs": [],
   "source": [
    "\"\"\"\n",
    "'abcde' -> 'a-b-c-d-e'\n",
    "\"\"\"\n",
    "def f(s: str) -> str:\n",
    "    return '-'.join(list(s))\n",
    "\n",
    "\n",
    "# функция apply есть как у объекта Series, так и у DataFrame\n",
    "# соответственно, использовать для модификации можно как отдельную колонку, так и все колонки сразу\n",
    "# в этом примере df_new.str1 + df_new.str2 создают новый объект Series, к которому apply применяется без проблем\n",
    "df_new['new_str'] = (df_new.str1 + df_new.str2).apply(f)\n",
    "df_new.head()"
   ]
  },
  {
   "cell_type": "markdown",
   "id": "Gmnl1ID5QwOI",
   "metadata": {
    "id": "Gmnl1ID5QwOI"
   },
   "source": [
    "Что можно делать с самим датафреймом?\n",
    "- Присоединять к нему другой датафрейм на основе какой-то колонки\n",
    "- Делать сцепку (конкатенировать) два датафрейма как вдоль строк, так и вдоль колонок"
   ]
  },
  {
   "cell_type": "code",
   "execution_count": null,
   "id": "Nlg4ZuV2SEtZ",
   "metadata": {
    "colab": {
     "base_uri": "https://localhost:8080/",
     "height": 363
    },
    "id": "Nlg4ZuV2SEtZ",
    "outputId": "265be230-4416-4a35-c212-30d1dc2a7114"
   },
   "outputs": [],
   "source": [
    "df_joint1 = pd.concat([\n",
    "    df[['num1', 'num2', 'num3', 'str1', 'str2']],\n",
    "    df_new[['num1', 'num2', 'num3', 'str1', 'str2']]\n",
    "])\n",
    "df_joint1.sample(10)"
   ]
  },
  {
   "cell_type": "markdown",
   "id": "HSnYQHGjSlp6",
   "metadata": {
    "id": "HSnYQHGjSlp6"
   },
   "source": [
    "Попробуйте применить функцию `reindex` к датафрейму `df_joint1` и посмотрите, что изменится"
   ]
  },
  {
   "cell_type": "code",
   "execution_count": null,
   "id": "iK64gDSxSzLA",
   "metadata": {
    "colab": {
     "base_uri": "https://localhost:8080/",
     "height": 206
    },
    "id": "iK64gDSxSzLA",
    "outputId": "7b6134cb-bfe3-4326-a9ef-4f4493f0334c"
   },
   "outputs": [],
   "source": [
    "df_joint2 = pd.merge(df, df_new, on=['str1'], suffixes=['_left', '_right'])  # аналог inner join в SQL\n",
    "df_joint2.head()"
   ]
  },
  {
   "cell_type": "markdown",
   "id": "hBsnz0UCVqn-",
   "metadata": {
    "id": "hBsnz0UCVqn-"
   },
   "source": [
    "Отдельным пунктом внутри преобразований датафрейма хочется вынести использование библиотеки tqdm. Сама по себе библиотека tqdm очень простая, её задача - отобразить полосу прогресса какого-либо цикла"
   ]
  },
  {
   "cell_type": "code",
   "execution_count": null,
   "id": "yblvcTfnV83o",
   "metadata": {
    "colab": {
     "base_uri": "https://localhost:8080/"
    },
    "id": "yblvcTfnV83o",
    "outputId": "534ba636-9671-46e5-edc6-3dc7e57700d5"
   },
   "outputs": [],
   "source": [
    "from tqdm import tqdm\n",
    "\n",
    "for i in tqdm(range(10)):\n",
    "    pass"
   ]
  },
  {
   "cell_type": "markdown",
   "id": "98SpJX5bWGS2",
   "metadata": {
    "id": "98SpJX5bWGS2"
   },
   "source": [
    "Если ваша задача предполагает работу с большим датафреймом, вы наверняка хотите знать, какая часть преобразования колонки уже выполнилась и сколько еще надо ждать. Делается это очень просто:"
   ]
  },
  {
   "cell_type": "code",
   "execution_count": null,
   "id": "Z0Dq2qqjWWHe",
   "metadata": {
    "id": "Z0Dq2qqjWWHe"
   },
   "outputs": [],
   "source": [
    "tqdm.pandas()  # Обновляет типы DataFrame и Series, добавляя им метод progress_apply"
   ]
  },
  {
   "cell_type": "code",
   "execution_count": null,
   "id": "s9US5VO4Wjc9",
   "metadata": {
    "colab": {
     "base_uri": "https://localhost:8080/",
     "height": 223
    },
    "id": "s9US5VO4Wjc9",
    "outputId": "a2db6632-630d-410c-ae58-2534a2a7ac0e"
   },
   "outputs": [],
   "source": [
    "df_new['dash_cnt'] = df_new.new_str.progress_apply(lambda s: sum([1 if c == '-' else 0 for c in s]))\n",
    "df_new.head()"
   ]
  },
  {
   "cell_type": "markdown",
   "id": "UWKsuUklEJsm",
   "metadata": {
    "id": "UWKsuUklEJsm"
   },
   "source": [
    "## Визуализация (matplotlib, seaborn)"
   ]
  },
  {
   "cell_type": "code",
   "execution_count": null,
   "id": "qOD_GDboENCM",
   "metadata": {
    "id": "qOD_GDboENCM"
   },
   "outputs": [],
   "source": [
    "from matplotlib import pyplot as plt  # plt - общепринятный алиас для библиотеки matplotlib\n",
    "import seaborn as sns  # sns - общепринятый алиас для библиотеки seaborn"
   ]
  },
  {
   "cell_type": "markdown",
   "id": "YU7x6-muEkOH",
   "metadata": {
    "id": "YU7x6-muEkOH"
   },
   "source": [
    "### Графики"
   ]
  },
  {
   "cell_type": "markdown",
   "id": "trqywy1LeR5C",
   "metadata": {
    "id": "trqywy1LeR5C"
   },
   "source": [
    "Как сделать графики matplotlib красивыми? Для этого нужен простой советский `sns.set_theme()`"
   ]
  },
  {
   "cell_type": "code",
   "execution_count": null,
   "id": "WkJTsjereYAY",
   "metadata": {
    "id": "WkJTsjereYAY"
   },
   "outputs": [],
   "source": [
    "sns.set_theme()"
   ]
  },
  {
   "cell_type": "markdown",
   "id": "47dVb6GEXy1c",
   "metadata": {
    "id": "47dVb6GEXy1c"
   },
   "source": [
    "Что нам может понадобиться для визуализации?\n",
    "- Построение каких-либо непрерывных графиков"
   ]
  },
  {
   "cell_type": "code",
   "execution_count": null,
   "id": "ILcsdgZeYKwE",
   "metadata": {
    "colab": {
     "base_uri": "https://localhost:8080/",
     "height": 268
    },
    "id": "ILcsdgZeYKwE",
    "outputId": "156c864c-4a61-46c6-c672-b0164c1a70c5"
   },
   "outputs": [],
   "source": [
    "x = np.linspace(-10, 10, 100)  # зададим 100 точек от -10 до 10\n",
    "y = 1/(1+np.exp(-x))  # посчитаем функцию f(x) от этих точек\n",
    "\n",
    "_ = plt.plot(x, y)"
   ]
  },
  {
   "cell_type": "markdown",
   "id": "IUce_qw7ZA3c",
   "metadata": {
    "id": "IUce_qw7ZA3c"
   },
   "source": [
    "- Визуализация точек в пространстве (возможно, в какой-либо проекции)"
   ]
  },
  {
   "cell_type": "code",
   "execution_count": null,
   "id": "B-7e8DigZECc",
   "metadata": {
    "colab": {
     "base_uri": "https://localhost:8080/",
     "height": 268
    },
    "id": "B-7e8DigZECc",
    "outputId": "5e7a7a6a-f6fe-4acb-9301-357372574868"
   },
   "outputs": [],
   "source": [
    "x = np.random.randn(100)\n",
    "y = np.random.randn(100)\n",
    "\n",
    "_ = plt.scatter(x, y)"
   ]
  },
  {
   "cell_type": "markdown",
   "id": "UfTtEfuRZCmU",
   "metadata": {
    "id": "UfTtEfuRZCmU"
   },
   "source": [
    "- Гистограммы, просто чтобы визуализировать какую-нибудь статистику"
   ]
  },
  {
   "cell_type": "code",
   "execution_count": null,
   "id": "COVDhod-EjuA",
   "metadata": {
    "colab": {
     "base_uri": "https://localhost:8080/",
     "height": 268
    },
    "id": "COVDhod-EjuA",
    "outputId": "b6e4cb6e-c691-4c9c-8849-60dda3a0766a"
   },
   "outputs": [],
   "source": [
    "_ = plt.hist(x)"
   ]
  },
  {
   "cell_type": "markdown",
   "id": "YS6Pd_3pEptM",
   "metadata": {
    "id": "YS6Pd_3pEptM"
   },
   "source": [
    "### Комбинация графиков"
   ]
  },
  {
   "cell_type": "code",
   "execution_count": null,
   "id": "B2U1YRCJaqWT",
   "metadata": {
    "colab": {
     "base_uri": "https://localhost:8080/",
     "height": 268
    },
    "id": "B2U1YRCJaqWT",
    "outputId": "381d2cce-5225-454e-9f3f-c69fb18e7be0"
   },
   "outputs": [],
   "source": [
    "x = np.linspace(-10, 10, 100)  # зададим 100 точек от -10 до 10\n",
    "y1 = 1/(1+np.exp(-x))  # посчитаем функцию f(x) от этих точек\n",
    "y2 = np.arctan(x) / np.pi + 0.5  # посчитаем функцию g(x) от этих точек\n",
    "\n",
    "_ = plt.plot(x, y1)  # синий график\n",
    "_ = plt.plot(x, y2)  # оранжевый график"
   ]
  },
  {
   "cell_type": "code",
   "execution_count": null,
   "id": "xzgre-FSErsK",
   "metadata": {
    "colab": {
     "base_uri": "https://localhost:8080/",
     "height": 286
    },
    "id": "xzgre-FSErsK",
    "outputId": "a624e081-c106-40e1-9ea5-0d6bb1d11390"
   },
   "outputs": [],
   "source": [
    "x1, x2 = np.random.randn(1000) * 0.3 - 2, np.random.randn(1000) * 2 + 3\n",
    "y1, y2 = np.random.randn(1000) * 0.5 - 3, np.random.randn(1000) * 0.8 + 1\n",
    "\n",
    "plt.scatter(x1, y1)\n",
    "plt.scatter(x2, y2)"
   ]
  },
  {
   "cell_type": "code",
   "execution_count": null,
   "id": "b9M6vM2Ibwt2",
   "metadata": {
    "colab": {
     "base_uri": "https://localhost:8080/",
     "height": 268
    },
    "id": "b9M6vM2Ibwt2",
    "outputId": "44e208ec-bf99-4a69-e31b-b6488a6eedde"
   },
   "outputs": [],
   "source": [
    "_ = plt.hist(x1, alpha=0.75, label='x1')  # alpha - прозрачность конкретной гистограммы\n",
    "_ = plt.hist(x2, alpha=0.75, label='x2')\n",
    "_ = plt.hist(y1, alpha=0.75, label='y1')\n",
    "_ = plt.hist(y2, alpha=0.75, label='y2')"
   ]
  },
  {
   "cell_type": "markdown",
   "id": "tENS-0Y1fWRn",
   "metadata": {
    "id": "tENS-0Y1fWRn"
   },
   "source": [
    "Если хотим разные графики - после каждого построения нужно вызвать `plt.show()`"
   ]
  },
  {
   "cell_type": "code",
   "execution_count": null,
   "id": "fyvM3PXKfFrn",
   "metadata": {
    "colab": {
     "base_uri": "https://localhost:8080/",
     "height": 519
    },
    "id": "fyvM3PXKfFrn",
    "outputId": "d161d11c-f353-4b1e-e007-7a6f46e69da0"
   },
   "outputs": [],
   "source": [
    "plt.hist(x1, alpha=0.5)\n",
    "plt.hist(x2, alpha=0.5)\n",
    "plt.show()\n",
    "\n",
    "plt.hist(y1, alpha=0.75)\n",
    "plt.hist(y2, alpha=0.75)\n",
    "plt.show()"
   ]
  },
  {
   "cell_type": "markdown",
   "id": "IxawGjVHqm_G",
   "metadata": {
    "id": "IxawGjVHqm_G"
   },
   "source": [
    "Eсли у одной и той же точки есть несколько допустимых измерений, то `sns.relplot` покажет доверительный интервал"
   ]
  },
  {
   "cell_type": "code",
   "execution_count": null,
   "id": "EuDR7XYhpbIR",
   "metadata": {
    "colab": {
     "base_uri": "https://localhost:8080/",
     "height": 665
    },
    "id": "EuDR7XYhpbIR",
    "outputId": "22c80880-2b92-472f-da73-59d53ffb0338"
   },
   "outputs": [],
   "source": [
    "x = np.linspace(-10, 10, 100)\n",
    "\n",
    "y0 = np.arctan(x) + np.random.randn(100) * 0.05 # функция с шумом 1\n",
    "y1 = np.arctan(x) + np.random.randn(100) * 0.1 # функция с шумом 2\n",
    "y2 = np.arctan(x) + np.random.randn(100) * 0.3 # функция с шумом 3\n",
    "y = np.arctan(x)\n",
    "\n",
    "X = np.hstack([x, x, x])\n",
    "Y = np.hstack([y0, y1, y2])\n",
    "\n",
    "sns.lineplot(\n",
    "    x=x, y=y\n",
    ").set(title='clear f(x)')\n",
    "sns.relplot(\n",
    "    x=X, y=Y, kind=\"line\",\n",
    ").set(title='noised f(x)')"
   ]
  },
  {
   "cell_type": "code",
   "execution_count": null,
   "id": "wHjswyufp8Ie",
   "metadata": {
    "id": "wHjswyufp8Ie"
   },
   "outputs": [],
   "source": []
  }
 ],
 "metadata": {
  "colab": {
   "collapsed_sections": [],
   "name": "ml-s01-new.ipynb",
   "provenance": []
  },
  "kernelspec": {
   "display_name": "Python 3 (ipykernel)",
   "language": "python",
   "name": "python3"
  },
  "language_info": {
   "codemirror_mode": {
    "name": "ipython",
    "version": 3
   },
   "file_extension": ".py",
   "mimetype": "text/x-python",
   "name": "python",
   "nbconvert_exporter": "python",
   "pygments_lexer": "ipython3",
   "version": "3.9.12"
  }
 },
 "nbformat": 4,
 "nbformat_minor": 5
}
