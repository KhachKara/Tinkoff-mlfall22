{
 "cells": [
  {
   "cell_type": "markdown",
   "metadata": {},
   "source": [
    "# Feature selection\n",
    "\n",
    "Воспользуемся корпусом `Adult`, в котором нужно предсказать уровень дохода человека (больше или меньше 50k)."
   ]
  },
  {
   "cell_type": "code",
   "execution_count": null,
   "metadata": {},
   "outputs": [],
   "source": [
    "import pandas as pd\n",
    "import numpy as np\n",
    "from sklearn.model_selection import train_test_split\n",
    "\n",
    "TARGET = \"income\"\n",
    "\n",
    "data = pd.read_csv(\"data/adult.csv\", na_values=[\"?\"])\n",
    "data.fillna(data.mean(numeric_only=True), inplace=True)\n",
    "data.fillna(data.mode().iloc[0], inplace=True)\n",
    "data[\"income\"] = (data[\"income\"] == \">50K\").astype(np.int64)\n",
    "data = pd.get_dummies(data, columns=[\"workclass\", \"education\", \"marital-status\", \"occupation\", \"relationship\", \"race\", \"gender\", \"native-country\"])\n",
    "data.head()\n",
    "\n",
    "data_train, data_test = train_test_split(data, test_size=0.2, random_state=0)\n",
    "\n",
    "X_train = data_train.drop([TARGET], axis=1)\n",
    "X_test = data_test.drop([TARGET], axis=1)\n",
    "y_train = data_train[TARGET]\n",
    "y_test = data_test[TARGET]\n",
    "\n",
    "print(\"Train size\", len(X_train))\n",
    "print(\"Test size\", len(X_test))"
   ]
  },
  {
   "cell_type": "markdown",
   "metadata": {},
   "source": [
    "Обучим линейную модель."
   ]
  },
  {
   "cell_type": "code",
   "execution_count": null,
   "metadata": {},
   "outputs": [],
   "source": [
    "from pandas.api.types import is_numeric_dtype\n",
    "from sklearn.linear_model import LogisticRegression\n",
    "\n",
    "\n",
    "def run(X_train, y_train, X_test, y_test, max_iter=10000, verbose=True):\n",
    "    columns = [column for column in X_train.columns if is_numeric_dtype(X_train[column])]\n",
    "    drop = len(X_train.columns) - len(columns)\n",
    "    if drop > 0 and verbose:\n",
    "        print(\"Drop\", drop, \"categorical features\")\n",
    "    X_train = X_train[columns]\n",
    "    X_test = X_test[columns]\n",
    "    if verbose:\n",
    "        print(\"Train size\", len(X_train))\n",
    "        print(\"Test size\", len(X_test))\n",
    "        print(\"Num features\", len(X_train.columns))\n",
    "    X_train = X_train.to_numpy()\n",
    "    y_train = y_train.to_numpy().flatten()\n",
    "    X_test = X_test.to_numpy()\n",
    "    y_test = y_test.to_numpy().flatten()\n",
    "    cls = LogisticRegression(max_iter=max_iter)\n",
    "    cls.fit(X_train, y_train)\n",
    "    train_accuracy = (cls.predict(X_train) == y_train).mean()\n",
    "    test_accuracy = (cls.predict(X_test) == y_test).mean()\n",
    "    if verbose:\n",
    "        print(\"Train accuracy: {}\".format(train_accuracy))\n",
    "        print(\"Test accuracy: {}\".format(test_accuracy))\n",
    "    return cls, train_accuracy\n",
    "    \n",
    "model, accuracy = run(X_train, y_train, X_test, y_test)"
   ]
  },
  {
   "cell_type": "markdown",
   "metadata": {},
   "source": [
    "# Жадный алгоритм"
   ]
  },
  {
   "cell_type": "code",
   "execution_count": null,
   "metadata": {},
   "outputs": [],
   "source": [
    "from tqdm import tqdm\n",
    "\n",
    "K = 5\n",
    "features = []\n",
    "for _ in range(K):\n",
    "    best_feature = None\n",
    "    max_accuracy = 0\n",
    "    for column in tqdm(X_train.columns):\n",
    "        if column in features:\n",
    "            continue\n",
    "        new_features = list(features) + [column]\n",
    "        _, accuracy = run(X_train[new_features], y_train, X_test[new_features], y_test, verbose=False)\n",
    "        if accuracy > max_accuracy:\n",
    "            max_accuracy = accuracy\n",
    "            best_feature = column\n",
    "    print(\"Add\", best_feature, \"Accuracy:\", max_accuracy)\n",
    "    features.append(best_feature)"
   ]
  },
  {
   "cell_type": "code",
   "execution_count": null,
   "metadata": {},
   "outputs": [],
   "source": [
    "for i, name in enumerate(features):\n",
    "    print(\"{}\\t{}\".format(i + 1, name))"
   ]
  },
  {
   "cell_type": "code",
   "execution_count": null,
   "metadata": {},
   "outputs": [],
   "source": [
    "run(X_train[features], y_train, X_test[features], y_test)"
   ]
  },
  {
   "cell_type": "markdown",
   "metadata": {},
   "source": [
    "**Качество выше, чем на полном наборе признаков.**"
   ]
  },
  {
   "cell_type": "markdown",
   "metadata": {},
   "source": [
    "# Интерпретация с SHAP"
   ]
  },
  {
   "cell_type": "code",
   "execution_count": null,
   "metadata": {},
   "outputs": [],
   "source": [
    "import shap\n",
    "\n",
    "sample_id = 3\n",
    "\n",
    "X100 = shap.utils.sample(X_train, 100)\n",
    "explainer = shap.Explainer(model.predict, X100)\n",
    "shap_values = explainer(X_train.iloc[[sample_id]])\n",
    "shap.plots.waterfall(shap_values[0], max_display=10)"
   ]
  },
  {
   "cell_type": "code",
   "execution_count": null,
   "metadata": {},
   "outputs": [],
   "source": []
  }
 ],
 "metadata": {
  "colab": {
   "name": "seminar5.ipynb",
   "provenance": [],
   "version": "0.3.2"
  },
  "kernelspec": {
   "display_name": "Python 3",
   "language": "python",
   "name": "python3"
  },
  "language_info": {
   "codemirror_mode": {
    "name": "ipython",
    "version": 3
   },
   "file_extension": ".py",
   "mimetype": "text/x-python",
   "name": "python",
   "nbconvert_exporter": "python",
   "pygments_lexer": "ipython3",
   "version": "3.8.9"
  }
 },
 "nbformat": 4,
 "nbformat_minor": 1
}
