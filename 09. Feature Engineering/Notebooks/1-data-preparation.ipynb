{
 "cells": [
  {
   "cell_type": "markdown",
   "metadata": {},
   "source": [
    "### Оглавление\n",
    "\n",
    "1. [Подготовка данных](#Подготовка-данных)\n",
    "2. [Пропуски в данных](#Пропуски-в-данных)\n",
    "3. [Кодирование категориальных признаков](#Кодирование-категориальных-признаков)\n",
    "4. [Кодирование даты и времени](#Кодирование-даты-и-времени)"
   ]
  },
  {
   "cell_type": "markdown",
   "metadata": {
    "button": false,
    "colab_type": "text",
    "id": "YUqVw8u7gi0Z",
    "new_sheet": false,
    "run_control": {
     "read_only": false
    }
   },
   "source": [
    "# Подготовка данных\n",
    "\n",
    "Предлагается рассмотреть корпус [Bank Marketing](https://archive.ics.uci.edu/ml/datasets/Bank+Marketing).\n",
    "\n",
    "Корпус содержит результаты обзвонов клиентов банка. Требуется предсказать открыл ли клиент вклад."
   ]
  },
  {
   "cell_type": "markdown",
   "metadata": {},
   "source": [
    "### Загрузка корпуса\n",
    "\n",
    "Корпус автоматически скачается. Обратите внимание на аргументы `pd.read_csv()`."
   ]
  },
  {
   "cell_type": "code",
   "execution_count": null,
   "metadata": {},
   "outputs": [],
   "source": [
    "import os\n",
    "import tempfile\n",
    "import urllib\n",
    "import zipfile\n",
    "from contextlib import contextmanager\n",
    "\n",
    "import numpy as np\n",
    "import pandas as pd\n",
    "\n",
    "\n",
    "DATA_URL = \"https://archive.ics.uci.edu/ml/machine-learning-databases/00222/bank.zip\"\n",
    "TARGET = \"y\"\n",
    "\n",
    "@contextmanager\n",
    "def download(url):\n",
    "    with tempfile.TemporaryDirectory() as root:\n",
    "        os.path.basename(url)\n",
    "        filename = os.path.basename(urllib.parse.urlparse(url).path)\n",
    "        path = os.path.join(root, filename)\n",
    "        urllib.request.urlretrieve(url, path)\n",
    "        yield path\n",
    "\n",
    "\n",
    "@contextmanager\n",
    "def unzip(filename):\n",
    "    with tempfile.TemporaryDirectory() as root:\n",
    "        with zipfile.ZipFile(filename, \"r\") as zfp:\n",
    "            zfp.extractall(root)\n",
    "        yield root\n",
    "\n",
    "        \n",
    "def parse_names(filename):\n",
    "    names = []\n",
    "    with open(filename) as fp:\n",
    "        for line in fp:\n",
    "            if not line.startswith(\"@attribute\"):\n",
    "                continue\n",
    "            names.append(line.split()[1])\n",
    "    return names\n",
    "\n",
    "\n",
    "with download(DATA_URL) as data_path:\n",
    "    with unzip(data_path) as data_root:\n",
    "        data = pd.read_csv(os.path.join(data_root, \"bank-full.csv\"),\n",
    "                           sep=\";\",\n",
    "                           na_values=[\"unknown\"])  # Пропуски в .csv файле помечены словом \"unknown\".\n",
    "        \n",
    "        \n",
    "# Усложним задачу: добавим пропуски в числовой признак.\n",
    "np.random.seed(0)\n",
    "mask = np.random.rand(len(data)) < 0.7\n",
    "data[\"balance\"].where(mask, other=np.NaN, inplace=True)"
   ]
  },
  {
   "cell_type": "markdown",
   "metadata": {},
   "source": [
    "### Exploratory data analysis (EDA)"
   ]
  },
  {
   "cell_type": "code",
   "execution_count": null,
   "metadata": {},
   "outputs": [],
   "source": [
    "data.info()"
   ]
  },
  {
   "cell_type": "code",
   "execution_count": null,
   "metadata": {
    "scrolled": true
   },
   "outputs": [],
   "source": [
    "data.head()"
   ]
  },
  {
   "cell_type": "markdown",
   "metadata": {},
   "source": [
    "Каждая из 45211 строк таблицы соотвествует одному звонку. В корпусе 16 признаков. Некоторые могут быть пропущены. Нужно предсказать поведение клиента (значение поля `y`)."
   ]
  },
  {
   "cell_type": "markdown",
   "metadata": {},
   "source": [
    "### Train / test split\n",
    "\n",
    "Выделим тренировочную и тестовую части корпуса. Также отделим признаки от целевого значения."
   ]
  },
  {
   "cell_type": "code",
   "execution_count": null,
   "metadata": {},
   "outputs": [],
   "source": [
    "from sklearn.model_selection import train_test_split\n",
    "\n",
    "data_train, data_test = train_test_split(data, test_size=0.2, random_state=0)\n",
    "\n",
    "X_train = data_train.drop([TARGET], axis=1)\n",
    "X_test = data_test.drop([TARGET], axis=1)\n",
    "y_train = data_train[TARGET]\n",
    "y_test = data_test[TARGET]\n",
    "\n",
    "print(\"Train size\", len(X_train))\n",
    "print(\"Test size\", len(X_test))"
   ]
  },
  {
   "cell_type": "markdown",
   "metadata": {
    "button": false,
    "colab_type": "text",
    "id": "Cz8Q1iZPgi0a",
    "new_sheet": false,
    "run_control": {
     "read_only": false
    }
   },
   "source": [
    "# Пропуски в данных\n",
    "\n",
    "Как мы увидели, часто значение признаков равно `NaN`. Это значит, что оно пропущено в исходном корпусе."
   ]
  },
  {
   "cell_type": "code",
   "execution_count": null,
   "metadata": {},
   "outputs": [],
   "source": [
    "data.isna().any().sum()  # Сколько признаков содержат неизвестные значения."
   ]
  },
  {
   "cell_type": "code",
   "execution_count": null,
   "metadata": {},
   "outputs": [],
   "source": [
    "# Увеличим число отображаемых строк.\n",
    "try:\n",
    "    pd.set_option(\"display.height\", 30)  # Старые версии pandas.\n",
    "except Exception:\n",
    "    pd.set_option(\"display.max_rows\", 30)  # Новые версии.\n",
    "nan_count = data.isna().sum()  # Сколько неизвестных значений содержит каждый признак.\n",
    "nan_count[nan_count > 0]"
   ]
  },
  {
   "cell_type": "markdown",
   "metadata": {
    "button": false,
    "colab_type": "text",
    "id": "Cz8Q1iZPgi0a",
    "new_sheet": false,
    "run_control": {
     "read_only": false
    }
   },
   "source": [
    "Большинство ML моделей не поддерживают пропуски.\n",
    "\n",
    "**Задание 1.** Предлагается заполнить пропуски в числовых полях `X_train` и `X_test` средним значением из `X_train`.\n",
    "\n",
    "*Подсказка*. Можно воспользоваться функциями `<df>.mean()` и `<df\\>.fillna()`. Обратите внимание на аргумент `numeric_only` функции `mean`."
   ]
  },
  {
   "cell_type": "code",
   "execution_count": null,
   "metadata": {
    "button": false,
    "colab": {},
    "colab_type": "code",
    "id": "crjS9fSWgi0q",
    "new_sheet": false,
    "run_control": {
     "read_only": false
    },
    "scrolled": true
   },
   "outputs": [],
   "source": [
    "#\n",
    "# Ваш код.\n",
    "#\n",
    "\n",
    "assert abs(X_train_new.loc[9894, \"balance\"] - 1362.268770) < 1e-6\n",
    "assert abs(X_test_new.loc[13318, \"balance\"] - 1362.268770) < 1e-6\n",
    "print(\"Check OK!\")\n",
    "X_train = X_train_new\n",
    "X_test = X_test_new\n",
    "X_train.head()"
   ]
  },
  {
   "cell_type": "markdown",
   "metadata": {
    "button": false,
    "colab_type": "text",
    "id": "xb6EDnHDgi00",
    "new_sheet": false,
    "run_control": {
     "read_only": false
    }
   },
   "source": [
    "**Задание 2.** В корпусе остались пропущенные признаки. Pandas не смог вычислить среднее для категориальных признаков. Заполните их наиболее вероятным значением.\n",
    "\n",
    "*Подсказка*. Можно воспользоваться функциями `<df>.mode()` и `<df\\>.fillna()`. Функция `mode` возвращает таблицу с несколькими строками на случай, если мода не одна. Нужно взять первую строку."
   ]
  },
  {
   "cell_type": "code",
   "execution_count": null,
   "metadata": {},
   "outputs": [],
   "source": [
    "#\n",
    "# Ваш код.\n",
    "#\n",
    "\n",
    "assert X_train_new.loc[9894, \"job\"] == \"blue-collar\"\n",
    "assert X_test_new.loc[18883, \"job\"] == \"blue-collar\"\n",
    "print(\"Check OK!\")\n",
    "X_train = X_train_new\n",
    "X_test = X_test_new\n",
    "X_train.head()"
   ]
  },
  {
   "cell_type": "markdown",
   "metadata": {},
   "source": [
    "Проверим, что пропусков не осталось."
   ]
  },
  {
   "cell_type": "code",
   "execution_count": null,
   "metadata": {},
   "outputs": [],
   "source": [
    "assert X_train.isna().any().sum() == 0\n",
    "assert X_test.isna().any().sum() == 0"
   ]
  },
  {
   "cell_type": "markdown",
   "metadata": {},
   "source": [
    "# Кодирование категориальных признаков"
   ]
  },
  {
   "cell_type": "markdown",
   "metadata": {
    "button": false,
    "colab_type": "text",
    "id": "9CYhFdwkgi03",
    "new_sheet": false,
    "run_control": {
     "read_only": false
    }
   },
   "source": [
    "###  Как понять, что признак категориальный?\n",
    "\n",
    "Идея - категориальные признаки те, в которых значения - строки или число уникальных значений достаточно мало."
   ]
  },
  {
   "cell_type": "code",
   "execution_count": null,
   "metadata": {
    "button": false,
    "colab": {},
    "colab_type": "code",
    "id": "w64ne9TDgi04",
    "new_sheet": false,
    "outputId": "9644b6ce-59cd-493b-cb32-3369acc5ee74",
    "run_control": {
     "read_only": false
    }
   },
   "outputs": [],
   "source": [
    "def find_cat(data, num_uniq=10):\n",
    "    columns = []\n",
    "    for name in data.columns:\n",
    "        message = name\n",
    "        if type(data[name][0]) == str:\n",
    "            message += \" строка,\"\n",
    "        if data[name].nunique() <= num_uniq:\n",
    "            message += \" мало уникальных\"\n",
    "        if message != name:\n",
    "            columns.append(name)\n",
    "            print(message)\n",
    "    return columns\n",
    "            \n",
    "find_cat(data)"
   ]
  },
  {
   "cell_type": "markdown",
   "metadata": {
    "button": false,
    "colab_type": "text",
    "id": "pu-bBrHcgi07",
    "new_sheet": false,
    "run_control": {
     "read_only": false
    }
   },
   "source": [
    "**Задание 3.** Реализуйте one-hot кодирование категориальных признаков, перечисленных в `CAT_COLUMNS`.\n",
    "\n",
    "*Подсказка*. Можно воспользоваться функциями `pd.concat()` и `pd.get_dummies(<df>)`."
   ]
  },
  {
   "cell_type": "code",
   "execution_count": null,
   "metadata": {
    "button": false,
    "colab": {},
    "colab_type": "code",
    "id": "1Pylqnqfgi08",
    "new_sheet": false,
    "outputId": "ad45b530-552f-4777-fd88-9ec9ba73e775",
    "run_control": {
     "read_only": false
    }
   },
   "outputs": [],
   "source": [
    "CAT_COLUMNS = [\"job\", \"marital\", \"education\", \"contact\", \"poutcome\"]\n",
    "\n",
    "#\n",
    "# Ваш код.\n",
    "#\n",
    "\n",
    "assert X_train_new.loc[13932, \"job_admin.\"] == 1\n",
    "assert X_test_new.loc[14001, \"education_tertiary\"] == 1\n",
    "print(\"Check OK!\")\n",
    "X_train = X_train_new\n",
    "X_test = X_test_new\n",
    "X_train.head()"
   ]
  },
  {
   "cell_type": "markdown",
   "metadata": {
    "button": false,
    "colab_type": "text",
    "id": "dStcJsoRgi1A",
    "new_sheet": false,
    "run_control": {
     "read_only": false
    }
   },
   "source": [
    "Покажем, как можно сгруппировать числовые признаков по категориальным.\n",
    "\n",
    "Например, для каждого значения признака `education` из нашей таблички можно посчитать среднее значение `balance`."
   ]
  },
  {
   "cell_type": "code",
   "execution_count": null,
   "metadata": {
    "button": false,
    "colab": {},
    "colab_type": "code",
    "id": "ru8a19wlgi1B",
    "new_sheet": false,
    "outputId": "4dae24b2-8543-401a-e37e-3262d23a4ed9",
    "run_control": {
     "read_only": false
    }
   },
   "outputs": [],
   "source": [
    "def group_mean(data, cat_feature, real_feature):\n",
    "    return (data[cat_feature].map(data.groupby(cat_feature)[real_feature].mean()))\n",
    "\n",
    "group_mean(data, \"education\", \"balance\")"
   ]
  },
  {
   "cell_type": "markdown",
   "metadata": {},
   "source": [
    "**Задание 4.** Замените `yes` и `no` в столбцах `YN_COLUMNS` на 1 и 0 соотвественно.\n",
    "\n",
    "*Подсказка.* Можно воспользоваться методами `<df>[<column>].map()` и `<df>.drop([<column>], axis=1)`."
   ]
  },
  {
   "cell_type": "code",
   "execution_count": null,
   "metadata": {},
   "outputs": [],
   "source": [
    "YN_COLUMNS = [\"default\", \"housing\", \"loan\"]\n",
    "MAPPING = {\"yes\": 1, \"no\": 0}\n",
    "\n",
    "#\n",
    "# Ваш код\n",
    "#\n",
    "\n",
    "assert X_train_new.loc[39946, \"housing\"] == 1\n",
    "assert X_test_new.loc[32046, \"default\"] == 0\n",
    "print(\"Check OK!\")\n",
    "\n",
    "X_train = X_train_new\n",
    "X_test = X_test_new\n",
    "X_train.head()"
   ]
  },
  {
   "cell_type": "markdown",
   "metadata": {
    "button": false,
    "colab_type": "text",
    "id": "LIY3peBogi1I",
    "new_sheet": false,
    "run_control": {
     "read_only": false
    }
   },
   "source": [
    "# Кодирование даты и времени"
   ]
  },
  {
   "cell_type": "markdown",
   "metadata": {},
   "source": [
    "**Задание 5.** Реализуйте периодическое кодирование месяца (в новые поля `month_cos` и `month_sin`):\n",
    "\n",
    "$cos(2 * \\pi * \\frac{x}{period})$, $sin(2 * \\pi * \\frac{x}{period})$\n",
    "\n",
    "*Подсказка.* Можно воспользоваться методами `<df>[<column>].map()` и `<df>.drop([<column>], axis=1)`."
   ]
  },
  {
   "cell_type": "code",
   "execution_count": null,
   "metadata": {},
   "outputs": [],
   "source": [
    "ORDER = [\"jan\", \"feb\", \"mar\", \"apr\", \"may\", \"jun\", \"jul\", \"aug\", \"sep\", \"oct\", \"nov\", \"dec\"]\n",
    "MONTH_MAPPING = {month: i for i, month in enumerate(ORDER)}\n",
    "\n",
    "#\n",
    "# Ваш код\n",
    "#\n",
    "\n",
    "assert abs(X_train_new.loc[13932, \"month_cos\"] + 1) < 1e-6\n",
    "assert abs(X_test_new.loc[32046, \"month_sin\"] - 1) < 1e-6\n",
    "print(\"Check OK!\")\n",
    "\n",
    "X_train = X_train_new\n",
    "X_test = X_test_new\n",
    "X_train.head()"
   ]
  },
  {
   "cell_type": "markdown",
   "metadata": {},
   "source": [
    "Выходные значения тоже нужно преобразовать в 0,1"
   ]
  },
  {
   "cell_type": "code",
   "execution_count": null,
   "metadata": {},
   "outputs": [],
   "source": [
    "y_train = y_train.map(MAPPING)\n",
    "y_test = y_test.map(MAPPING)\n",
    "y_train.head()"
   ]
  },
  {
   "cell_type": "markdown",
   "metadata": {},
   "source": [
    "# Проверим, что теперь все данные числовые"
   ]
  },
  {
   "cell_type": "code",
   "execution_count": null,
   "metadata": {},
   "outputs": [],
   "source": [
    "X_train.info()"
   ]
  }
 ],
 "metadata": {
  "colab": {
   "name": "seminar5.ipynb",
   "provenance": [],
   "version": "0.3.2"
  },
  "kernelspec": {
   "display_name": "Python 3",
   "language": "python",
   "name": "python3"
  },
  "language_info": {
   "codemirror_mode": {
    "name": "ipython",
    "version": 3
   },
   "file_extension": ".py",
   "mimetype": "text/x-python",
   "name": "python",
   "nbconvert_exporter": "python",
   "pygments_lexer": "ipython3",
   "version": "3.8.9"
  }
 },
 "nbformat": 4,
 "nbformat_minor": 1
}
