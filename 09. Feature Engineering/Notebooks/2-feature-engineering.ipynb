{
 "cells": [
  {
   "cell_type": "markdown",
   "metadata": {},
   "source": [
    "# Feature engineering\n",
    "\n",
    "Воспользуемся корпусом `Adult`, в котором нужно предсказать уровень дохода человека (больше или меньше 50k)."
   ]
  },
  {
   "cell_type": "code",
   "execution_count": null,
   "metadata": {},
   "outputs": [],
   "source": [
    "import pandas as pd\n",
    "import numpy as np\n",
    "\n",
    "TARGET = \"income\"\n",
    "\n",
    "data = pd.read_csv(\"data/adult.csv\", na_values=[\"?\"])\n",
    "data.fillna(data.mean(numeric_only=True), inplace=True)\n",
    "data.fillna(data.mode().iloc[0], inplace=True)\n",
    "data[\"income\"] = (data[\"income\"] == \">50K\").astype(np.int64)\n",
    "data.head()"
   ]
  },
  {
   "cell_type": "markdown",
   "metadata": {},
   "source": [
    "Подготовим категориальные признаки."
   ]
  },
  {
   "cell_type": "code",
   "execution_count": null,
   "metadata": {},
   "outputs": [],
   "source": [
    "data = pd.get_dummies(data, columns=[\"workclass\", \"education\", \"marital-status\", \"occupation\", \"relationship\", \"race\", \"gender\", \"native-country\"])\n",
    "data.head()"
   ]
  },
  {
   "cell_type": "markdown",
   "metadata": {},
   "source": [
    "Выделим тестовый корпус."
   ]
  },
  {
   "cell_type": "code",
   "execution_count": null,
   "metadata": {},
   "outputs": [],
   "source": [
    "from sklearn.model_selection import train_test_split\n",
    "\n",
    "data_train, data_test = train_test_split(data, test_size=0.2, random_state=0)\n",
    "\n",
    "X_train = data_train.drop([TARGET], axis=1)\n",
    "X_test = data_test.drop([TARGET], axis=1)\n",
    "y_train = data_train[TARGET]\n",
    "y_test = data_test[TARGET]\n",
    "\n",
    "print(\"Train size\", len(X_train))\n",
    "print(\"Test size\", len(X_test))"
   ]
  },
  {
   "cell_type": "markdown",
   "metadata": {},
   "source": [
    "Обучим линейную модель."
   ]
  },
  {
   "cell_type": "code",
   "execution_count": null,
   "metadata": {},
   "outputs": [],
   "source": [
    "from pandas.api.types import is_numeric_dtype\n",
    "from sklearn.linear_model import LogisticRegression\n",
    "\n",
    "\n",
    "def run(X_train, y_train, X_test, y_test):\n",
    "    columns = [column for column in X_train.columns if is_numeric_dtype(X_train[column])]\n",
    "    drop = len(X_train.columns) - len(columns)\n",
    "    if drop > 0:\n",
    "        print(\"Drop\", drop, \"categorical features\")\n",
    "    X_train = X_train[columns]\n",
    "    X_test = X_test[columns]\n",
    "    print(\"Train size\", len(X_train))\n",
    "    print(\"Test size\", len(X_test))\n",
    "    print(\"Num features\", len(X_train.columns))\n",
    "    X_train = X_train.to_numpy()\n",
    "    y_train = y_train.to_numpy().flatten()\n",
    "    X_test = X_test.to_numpy()\n",
    "    y_test = y_test.to_numpy().flatten()\n",
    "    cls = LogisticRegression(max_iter=10000)\n",
    "    cls.fit(X_train, y_train)\n",
    "    accuracy = (cls.predict(X_train) == y_train).mean()\n",
    "    print(\"Train accuracy: {}\".format(accuracy))\n",
    "    accuracy = (cls.predict(X_test) == y_test).mean()\n",
    "    print(\"Test accuracy: {}\".format(accuracy))\n",
    "    \n",
    "run(X_train, y_train, X_test, y_test)"
   ]
  },
  {
   "cell_type": "markdown",
   "metadata": {},
   "source": [
    "**Задание 1.** Отнормируйте признаки.\n",
    "\n",
    "*Подсказка.* Можно воспользоваться функциями `<df>.mean()` и `<df>.std()`."
   ]
  },
  {
   "cell_type": "code",
   "execution_count": null,
   "metadata": {},
   "outputs": [],
   "source": [
    "def normalize(X_train, X_test):\n",
    "    #\n",
    "    # Ваш код.\n",
    "    #\n",
    "    \n",
    "    return X_train_new, X_test_new\n",
    "\n",
    "# Проверки.\n",
    "X_train_new, X_test_new = normalize(X_train, X_test)\n",
    "assert abs(X_train_new.loc[2516, \"educational-num\"] - X_test_new.loc[38113, \"educational-num\"]) < 1e-6\n",
    "run(X_train_new, y_train, X_test_new, y_test)"
   ]
  },
  {
   "cell_type": "markdown",
   "metadata": {},
   "source": [
    "Качество выросло?"
   ]
  },
  {
   "cell_type": "markdown",
   "metadata": {},
   "source": [
    "**Задание 2.** Попробуйте добавить признаков в датасет и увеличить точность до 85.5%+ на тестовом корпусе."
   ]
  },
  {
   "cell_type": "code",
   "execution_count": null,
   "metadata": {},
   "outputs": [],
   "source": [
    "def generate_features(df):\n",
    "    #\n",
    "    # Ваш код.\n",
    "    #\n",
    "    return df\n",
    "\n",
    "X_train_new = X_train.copy()\n",
    "X_test_new = X_test.copy()\n",
    "X_train_new = generate_features(X_train_new)\n",
    "X_test_new = generate_features(X_test_new)\n",
    "X_train_new, X_test_new = normalize(X_train_new, X_test_new)\n",
    "run(X_train_new, y_train, X_test_new, y_test)"
   ]
  }
 ],
 "metadata": {
  "colab": {
   "name": "seminar5.ipynb",
   "provenance": [],
   "version": "0.3.2"
  },
  "kernelspec": {
   "display_name": "Python 3",
   "language": "python",
   "name": "python3"
  },
  "language_info": {
   "codemirror_mode": {
    "name": "ipython",
    "version": 3
   },
   "file_extension": ".py",
   "mimetype": "text/x-python",
   "name": "python",
   "nbconvert_exporter": "python",
   "pygments_lexer": "ipython3",
   "version": "3.8.9"
  }
 },
 "nbformat": 4,
 "nbformat_minor": 1
}
