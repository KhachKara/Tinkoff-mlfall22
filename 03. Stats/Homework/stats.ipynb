{
 "cells": [
  {
   "cell_type": "code",
   "execution_count": 3,
   "metadata": {},
   "outputs": [],
   "source": [
    "import pandas as pd\n",
    "import pandas_datareader.data as web\n",
    "import numpy as np\n",
    "import datetime\n",
    "import matplotlib\n",
    "import seaborn as sns\n",
    "import yaml\n",
    "# start = datetime.datetime(2010, 1, 1)\n",
    "# end = datetime.datetime(2022, 8, 6)\n",
    "stocks_data = pd.read_csv('data/Stocks_processed.csv', index_col='<DATE>').drop(columns=['Unnamed: 0'])\n"
   ]
  },
  {
   "cell_type": "code",
   "execution_count": 28,
   "metadata": {},
   "outputs": [
    {
     "data": {
      "text/html": [
       "<div>\n",
       "<style scoped>\n",
       "    .dataframe tbody tr th:only-of-type {\n",
       "        vertical-align: middle;\n",
       "    }\n",
       "\n",
       "    .dataframe tbody tr th {\n",
       "        vertical-align: top;\n",
       "    }\n",
       "\n",
       "    .dataframe thead th {\n",
       "        text-align: right;\n",
       "    }\n",
       "</style>\n",
       "<table border=\"1\" class=\"dataframe\">\n",
       "  <thead>\n",
       "    <tr style=\"text-align: right;\">\n",
       "      <th></th>\n",
       "      <th>CHFUSD_lrr</th>\n",
       "      <th>GOLD_lrr</th>\n",
       "      <th>EURUSD_lrr</th>\n",
       "      <th>BRENT_lrr</th>\n",
       "      <th>GAS_lrr</th>\n",
       "      <th>PL_lrr</th>\n",
       "      <th>RUBUSD_lrr</th>\n",
       "      <th>SPY_lrr</th>\n",
       "    </tr>\n",
       "    <tr>\n",
       "      <th>&lt;DATE&gt;</th>\n",
       "      <th></th>\n",
       "      <th></th>\n",
       "      <th></th>\n",
       "      <th></th>\n",
       "      <th></th>\n",
       "      <th></th>\n",
       "      <th></th>\n",
       "      <th></th>\n",
       "    </tr>\n",
       "  </thead>\n",
       "  <tbody>\n",
       "    <tr>\n",
       "      <th>03/01/19</th>\n",
       "      <td>0.002473</td>\n",
       "      <td>0.004094</td>\n",
       "      <td>0.004652</td>\n",
       "      <td>0.015786</td>\n",
       "      <td>0.004803</td>\n",
       "      <td>0.009322</td>\n",
       "      <td>0.003656</td>\n",
       "      <td>-0.025068</td>\n",
       "    </tr>\n",
       "    <tr>\n",
       "      <th>04/01/19</th>\n",
       "      <td>0.001284</td>\n",
       "      <td>-0.008516</td>\n",
       "      <td>0.000377</td>\n",
       "      <td>0.033109</td>\n",
       "      <td>0.037284</td>\n",
       "      <td>0.022267</td>\n",
       "      <td>0.013339</td>\n",
       "      <td>0.033759</td>\n",
       "    </tr>\n",
       "    <tr>\n",
       "      <th>07/01/19</th>\n",
       "      <td>0.006982</td>\n",
       "      <td>-0.006752</td>\n",
       "      <td>0.006802</td>\n",
       "      <td>-0.003641</td>\n",
       "      <td>0.010373</td>\n",
       "      <td>-0.009521</td>\n",
       "      <td>0.015553</td>\n",
       "      <td>0.006986</td>\n",
       "    </tr>\n",
       "    <tr>\n",
       "      <th>08/01/19</th>\n",
       "      <td>-0.001765</td>\n",
       "      <td>-0.000545</td>\n",
       "      <td>-0.003194</td>\n",
       "      <td>0.017562</td>\n",
       "      <td>-0.001666</td>\n",
       "      <td>0.000968</td>\n",
       "      <td>-0.004553</td>\n",
       "      <td>0.009649</td>\n",
       "    </tr>\n",
       "    <tr>\n",
       "      <th>09/01/19</th>\n",
       "      <td>0.008212</td>\n",
       "      <td>0.010618</td>\n",
       "      <td>0.009907</td>\n",
       "      <td>0.045868</td>\n",
       "      <td>-0.003675</td>\n",
       "      <td>0.005189</td>\n",
       "      <td>0.002413</td>\n",
       "      <td>0.004090</td>\n",
       "    </tr>\n",
       "    <tr>\n",
       "      <th>...</th>\n",
       "      <td>...</td>\n",
       "      <td>...</td>\n",
       "      <td>...</td>\n",
       "      <td>...</td>\n",
       "      <td>...</td>\n",
       "      <td>...</td>\n",
       "      <td>...</td>\n",
       "      <td>...</td>\n",
       "    </tr>\n",
       "    <tr>\n",
       "      <th>27/12/21</th>\n",
       "      <td>0.001928</td>\n",
       "      <td>0.002761</td>\n",
       "      <td>0.000574</td>\n",
       "      <td>0.032578</td>\n",
       "      <td>0.029549</td>\n",
       "      <td>-0.001651</td>\n",
       "      <td>-0.000736</td>\n",
       "      <td>0.013744</td>\n",
       "    </tr>\n",
       "    <tr>\n",
       "      <th>28/12/21</th>\n",
       "      <td>0.000028</td>\n",
       "      <td>-0.003315</td>\n",
       "      <td>-0.001457</td>\n",
       "      <td>0.002541</td>\n",
       "      <td>-0.001224</td>\n",
       "      <td>0.009456</td>\n",
       "      <td>-0.003687</td>\n",
       "      <td>-0.001011</td>\n",
       "    </tr>\n",
       "    <tr>\n",
       "      <th>29/12/21</th>\n",
       "      <td>0.003553</td>\n",
       "      <td>-0.001107</td>\n",
       "      <td>0.004049</td>\n",
       "      <td>0.004810</td>\n",
       "      <td>-0.054108</td>\n",
       "      <td>-0.009973</td>\n",
       "      <td>-0.004888</td>\n",
       "      <td>0.001401</td>\n",
       "    </tr>\n",
       "    <tr>\n",
       "      <th>30/12/21</th>\n",
       "      <td>0.000000</td>\n",
       "      <td>0.006295</td>\n",
       "      <td>-0.003280</td>\n",
       "      <td>-0.000758</td>\n",
       "      <td>-0.069325</td>\n",
       "      <td>-0.004245</td>\n",
       "      <td>-0.007602</td>\n",
       "      <td>-0.002994</td>\n",
       "    </tr>\n",
       "    <tr>\n",
       "      <th>31/12/21</th>\n",
       "      <td>0.001826</td>\n",
       "      <td>0.007623</td>\n",
       "      <td>0.003932</td>\n",
       "      <td>-0.015279</td>\n",
       "      <td>0.041265</td>\n",
       "      <td>0.002177</td>\n",
       "      <td>-0.006530</td>\n",
       "      <td>-0.002630</td>\n",
       "    </tr>\n",
       "  </tbody>\n",
       "</table>\n",
       "<p>756 rows × 8 columns</p>\n",
       "</div>"
      ],
      "text/plain": [
       "          CHFUSD_lrr  GOLD_lrr  EURUSD_lrr  BRENT_lrr   GAS_lrr    PL_lrr  \\\n",
       "<DATE>                                                                      \n",
       "03/01/19    0.002473  0.004094    0.004652   0.015786  0.004803  0.009322   \n",
       "04/01/19    0.001284 -0.008516    0.000377   0.033109  0.037284  0.022267   \n",
       "07/01/19    0.006982 -0.006752    0.006802  -0.003641  0.010373 -0.009521   \n",
       "08/01/19   -0.001765 -0.000545   -0.003194   0.017562 -0.001666  0.000968   \n",
       "09/01/19    0.008212  0.010618    0.009907   0.045868 -0.003675  0.005189   \n",
       "...              ...       ...         ...        ...       ...       ...   \n",
       "27/12/21    0.001928  0.002761    0.000574   0.032578  0.029549 -0.001651   \n",
       "28/12/21    0.000028 -0.003315   -0.001457   0.002541 -0.001224  0.009456   \n",
       "29/12/21    0.003553 -0.001107    0.004049   0.004810 -0.054108 -0.009973   \n",
       "30/12/21    0.000000  0.006295   -0.003280  -0.000758 -0.069325 -0.004245   \n",
       "31/12/21    0.001826  0.007623    0.003932  -0.015279  0.041265  0.002177   \n",
       "\n",
       "          RUBUSD_lrr   SPY_lrr  \n",
       "<DATE>                          \n",
       "03/01/19    0.003656 -0.025068  \n",
       "04/01/19    0.013339  0.033759  \n",
       "07/01/19    0.015553  0.006986  \n",
       "08/01/19   -0.004553  0.009649  \n",
       "09/01/19    0.002413  0.004090  \n",
       "...              ...       ...  \n",
       "27/12/21   -0.000736  0.013744  \n",
       "28/12/21   -0.003687 -0.001011  \n",
       "29/12/21   -0.004888  0.001401  \n",
       "30/12/21   -0.007602 -0.002994  \n",
       "31/12/21   -0.006530 -0.002630  \n",
       "\n",
       "[756 rows x 8 columns]"
      ]
     },
     "execution_count": 28,
     "metadata": {},
     "output_type": "execute_result"
    }
   ],
   "source": [
    "stocks_data"
   ]
  },
  {
   "cell_type": "code",
   "execution_count": 29,
   "metadata": {},
   "outputs": [
    {
     "data": {
      "text/plain": [
       "<AxesSubplot:title={'center':'S&P 500 daily log returns'}, xlabel='<DATE>'>"
      ]
     },
     "execution_count": 29,
     "metadata": {},
     "output_type": "execute_result"
    },
    {
     "data": {
      "image/png": "[encoded data removed]",
      "text/plain": [
       "<Figure size 432x288 with 1 Axes>"
      ]
     },
     "metadata": {
      "needs_background": "light"
     },
     "output_type": "display_data"
    }
   ],
   "source": [
    "stocks_data['SPY_lrr'].plot(title='S&P 500 daily log returns')"
   ]
  },
  {
   "cell_type": "code",
   "execution_count": 30,
   "metadata": {},
   "outputs": [],
   "source": [
    "small_pop = stocks_data['SPY_lrr'].dropna().sample(n=10)\n",
    "big_pop = stocks_data['SPY_lrr'].dropna().sample(n=600)"
   ]
  },
  {
   "cell_type": "code",
   "execution_count": 31,
   "metadata": {},
   "outputs": [
    {
     "name": "stdout",
     "output_type": "stream",
     "text": [
      "small_pop mean: 0.006882737947703259\n",
      "small_pop standard deviation: 0.013889846941199584\n",
      "big_pop mean: 0.0011055041562990945\n",
      "big_pop standard deviation: 0.01454115405882506\n"
     ]
    }
   ],
   "source": [
    "print('small_pop mean:', np.mean(small_pop))\n",
    "print('small_pop standard deviation:',np.std(small_pop))\n",
    "print('big_pop mean:', np.mean(big_pop))\n",
    "print('big_pop standard deviation:',np.std(big_pop))\n",
    "\n"
   ]
  },
  {
   "cell_type": "code",
   "execution_count": 32,
   "metadata": {},
   "outputs": [],
   "source": [
    "spy_log_return  = stocks_data['SPY_lrr'].dropna()"
   ]
  },
  {
   "cell_type": "code",
   "execution_count": 33,
   "metadata": {},
   "outputs": [
    {
     "name": "stdout",
     "output_type": "stream",
     "text": [
      "10 days 95% confidence inverval: (-0.003663232590257857, 0.007797414777982837)\n",
      "600 days 95% confidence inverval: (-0.0003711872073257537, 0.0020880825781114994)\n"
     ]
    }
   ],
   "source": [
    "bottom_1 = np.mean(spy_log_return.tail(10))-1.96*np.std(spy_log_return.tail(10))/(np.sqrt(len((spy_log_return.tail(10)))))\n",
    "upper_1 = np.mean(spy_log_return.tail(10))+1.96*np.std(spy_log_return.tail(10))/(np.sqrt(len((spy_log_return.tail(10)))))\n",
    "bottom_2 = np.mean(spy_log_return.tail(600))-1.96*np.std(spy_log_return.tail(600))/(np.sqrt(len((spy_log_return.tail(600)))))\n",
    "upper_2 = np.mean(spy_log_return.tail(600))+1.96*np.std(spy_log_return.tail(600))/(np.sqrt(len((spy_log_return.tail(600)))))\n",
    "#print the outcomes\n",
    "print('10 days 95% confidence inverval:', (bottom_1,upper_1))\n",
    "print('600 days 95% confidence inverval:', (bottom_2,upper_2))\n"
   ]
  },
  {
   "cell_type": "markdown",
   "metadata": {},
   "source": [
    "# Проверка гипотезы о среднем\n",
    "Мы посмотрели на график log daily returns и предположили, что среднее для всег SPY –  0"
   ]
  },
  {
   "cell_type": "markdown",
   "metadata": {},
   "source": [
    "Cначала давайте проверим через доверительные интервалы "
   ]
  },
  {
   "cell_type": "code",
   "execution_count": 34,
   "metadata": {},
   "outputs": [
    {
     "name": "stdout",
     "output_type": "stream",
     "text": [
      "mean_10     0.002067\n",
      "std_10      0.009245\n",
      "mean_600    0.000858\n",
      "std_600     0.015367\n",
      "dtype: float64\n"
     ]
    }
   ],
   "source": [
    "mean_600 = np.mean(spy_log_return.tail(600))\n",
    "std_600 = np.std(spy_log_return.tail(600))\n",
    "mean_10 = np.mean(spy_log_return.tail(10))\n",
    "std_10 = np.std(spy_log_return.tail(10))\n",
    "s = pd.Series([mean_10,std_10,mean_600,std_600],index = ['mean_10', 'std_10','mean_600','std_600'])\n",
    "print(s)"
   ]
  },
  {
   "cell_type": "markdown",
   "metadata": {},
   "source": [
    "Видим, что наше выборочное среднее попало в 90% доверительный интервал"
   ]
  },
  {
   "cell_type": "code",
   "execution_count": 35,
   "metadata": {},
   "outputs": [
    {
     "name": "stdout",
     "output_type": "stream",
     "text": [
      "(-0.001028878175540075, 0.001028878175540075)\n"
     ]
    }
   ],
   "source": [
    "bottom = 0 - 1.64*std_600/np.sqrt(600)\n",
    "upper = 0 + 1.64*std_600/np.sqrt(600)\n",
    "print((bottom, upper))"
   ]
  },
  {
   "cell_type": "code",
   "execution_count": 36,
   "metadata": {},
   "outputs": [
    {
     "name": "stdout",
     "output_type": "stream",
     "text": [
      "(-0.0012296348927186265, 0.0012296348927186265)\n"
     ]
    }
   ],
   "source": [
    "bottom = 0 - 1.96*std_600/np.sqrt(600)\n",
    "upper = 0 + 1.96*std_600/np.sqrt(600)\n",
    "print((bottom, upper))"
   ]
  },
  {
   "cell_type": "markdown",
   "metadata": {},
   "source": [
    "Но попало в 95%"
   ]
  },
  {
   "cell_type": "markdown",
   "metadata": {},
   "source": [
    "Теперь давайте проведём Z-test\n",
    "$$\n",
    "H_0: \\mu = 0 \\\\\n",
    "H_1: \\mu \\neq 0\n",
    "$$"
   ]
  },
  {
   "cell_type": "code",
   "execution_count": 37,
   "metadata": {},
   "outputs": [],
   "source": [
    "z_crit = (np.sqrt(600)*(mean_600 - 0)/std_600)\n"
   ]
  },
  {
   "cell_type": "code",
   "execution_count": 38,
   "metadata": {},
   "outputs": [
    {
     "name": "stdout",
     "output_type": "stream",
     "text": [
      "0.0856029835955473\n"
     ]
    }
   ],
   "source": [
    "import scipy.stats as st\n",
    "print((1 - st.norm.cdf(z_crit)))"
   ]
  },
  {
   "cell_type": "markdown",
   "metadata": {},
   "source": [
    "При среднем размере выборки нулевая гипотеза принимается"
   ]
  },
  {
   "cell_type": "code",
   "execution_count": 39,
   "metadata": {},
   "outputs": [
    {
     "name": "stdout",
     "output_type": "stream",
     "text": [
      "z-score =  1.6396762988672502\n",
      "p_value =  0.050536244731918756\n"
     ]
    }
   ],
   "source": [
    "mean_all = np.mean(spy_log_return)\n",
    "std_all = np.std(spy_log_return)\n",
    "z_score = np.sqrt(len(spy_log_return))*(mean_all - 0)/std_all\n",
    "print('z-score = ',z_score)\n",
    "p_value = (1 - st.norm.cdf(z_score))\n",
    "print('p_value = ',p_value)"
   ]
  },
  {
   "cell_type": "markdown",
   "metadata": {},
   "source": [
    "При большем объёме выборки видим, что нулевая гипотеза cнова принимается на уровне значимости 0.95 и даже 0.9"
   ]
  },
  {
   "cell_type": "markdown",
   "metadata": {},
   "source": [
    "Все рассмотренные тесты так же есть и в модуле statsmodels.stats"
   ]
  },
  {
   "cell_type": "code",
   "execution_count": 40,
   "metadata": {},
   "outputs": [
    {
     "name": "stdout",
     "output_type": "stream",
     "text": [
      "0.10129836417233666\n",
      "mean is 0\n"
     ]
    }
   ],
   "source": [
    "from statsmodels.stats import weightstats as stests\n",
    "ztest ,pval = stests.ztest(spy_log_return, value=0, alternative='two-sided')\n",
    "print(pval)\n",
    "if pval<0.025:\n",
    "    print(\"mean is not 0\")\n",
    "else:\n",
    "    print(\"mean is 0\")"
   ]
  },
  {
   "cell_type": "markdown",
   "metadata": {},
   "source": [
    "## Некоторые другие тесты для"
   ]
  },
  {
   "cell_type": "code",
   "execution_count": 41,
   "metadata": {},
   "outputs": [
    {
     "data": {
      "text/plain": [
       "<AxesSubplot:>"
      ]
     },
     "execution_count": 41,
     "metadata": {},
     "output_type": "execute_result"
    },
    {
     "data": {
      "image/png": "[encoded data removed]",
      "text/plain": [
       "<Figure size 864x576 with 1 Axes>"
      ]
     },
     "metadata": {
      "needs_background": "light"
     },
     "output_type": "display_data"
    }
   ],
   "source": [
    "spy_log_return.hist(bins=50, figsize=(12,8))"
   ]
  },
  {
   "cell_type": "code",
   "execution_count": 42,
   "metadata": {},
   "outputs": [
    {
     "name": "stdout",
     "output_type": "stream",
     "text": [
      "stat=0.792, p=0.000\n",
      "Probably not Gaussian\n"
     ]
    }
   ],
   "source": [
    "# Example of the Shapiro-Wilk Normality Test\n",
    "from scipy.stats import shapiro\n",
    "stat, p = shapiro(spy_log_return)\n",
    "print('stat=%.3f, p=%.3f' % (stat, p))\n",
    "if p > 0.05:\n",
    "\tprint('Probably Gaussian')\n",
    "else:\n",
    "\tprint('Probably not Gaussian')"
   ]
  },
  {
   "cell_type": "code",
   "execution_count": 43,
   "metadata": {},
   "outputs": [
    {
     "data": {
      "text/html": [
       "<div>\n",
       "<style scoped>\n",
       "    .dataframe tbody tr th:only-of-type {\n",
       "        vertical-align: middle;\n",
       "    }\n",
       "\n",
       "    .dataframe tbody tr th {\n",
       "        vertical-align: top;\n",
       "    }\n",
       "\n",
       "    .dataframe thead th {\n",
       "        text-align: right;\n",
       "    }\n",
       "</style>\n",
       "<table border=\"1\" class=\"dataframe\">\n",
       "  <thead>\n",
       "    <tr style=\"text-align: right;\">\n",
       "      <th></th>\n",
       "      <th>CHFUSD_lrr</th>\n",
       "      <th>GOLD_lrr</th>\n",
       "      <th>EURUSD_lrr</th>\n",
       "      <th>BRENT_lrr</th>\n",
       "      <th>GAS_lrr</th>\n",
       "      <th>PL_lrr</th>\n",
       "      <th>RUBUSD_lrr</th>\n",
       "      <th>SPY_lrr</th>\n",
       "    </tr>\n",
       "    <tr>\n",
       "      <th>&lt;DATE&gt;</th>\n",
       "      <th></th>\n",
       "      <th></th>\n",
       "      <th></th>\n",
       "      <th></th>\n",
       "      <th></th>\n",
       "      <th></th>\n",
       "      <th></th>\n",
       "      <th></th>\n",
       "    </tr>\n",
       "  </thead>\n",
       "  <tbody>\n",
       "    <tr>\n",
       "      <th>03/01/19</th>\n",
       "      <td>0.002473</td>\n",
       "      <td>0.004094</td>\n",
       "      <td>0.004652</td>\n",
       "      <td>0.015786</td>\n",
       "      <td>0.004803</td>\n",
       "      <td>0.009322</td>\n",
       "      <td>0.003656</td>\n",
       "      <td>-0.025068</td>\n",
       "    </tr>\n",
       "    <tr>\n",
       "      <th>04/01/19</th>\n",
       "      <td>0.001284</td>\n",
       "      <td>-0.008516</td>\n",
       "      <td>0.000377</td>\n",
       "      <td>0.033109</td>\n",
       "      <td>0.037284</td>\n",
       "      <td>0.022267</td>\n",
       "      <td>0.013339</td>\n",
       "      <td>0.033759</td>\n",
       "    </tr>\n",
       "    <tr>\n",
       "      <th>07/01/19</th>\n",
       "      <td>0.006982</td>\n",
       "      <td>-0.006752</td>\n",
       "      <td>0.006802</td>\n",
       "      <td>-0.003641</td>\n",
       "      <td>0.010373</td>\n",
       "      <td>-0.009521</td>\n",
       "      <td>0.015553</td>\n",
       "      <td>0.006986</td>\n",
       "    </tr>\n",
       "    <tr>\n",
       "      <th>08/01/19</th>\n",
       "      <td>-0.001765</td>\n",
       "      <td>-0.000545</td>\n",
       "      <td>-0.003194</td>\n",
       "      <td>0.017562</td>\n",
       "      <td>-0.001666</td>\n",
       "      <td>0.000968</td>\n",
       "      <td>-0.004553</td>\n",
       "      <td>0.009649</td>\n",
       "    </tr>\n",
       "    <tr>\n",
       "      <th>09/01/19</th>\n",
       "      <td>0.008212</td>\n",
       "      <td>0.010618</td>\n",
       "      <td>0.009907</td>\n",
       "      <td>0.045868</td>\n",
       "      <td>-0.003675</td>\n",
       "      <td>0.005189</td>\n",
       "      <td>0.002413</td>\n",
       "      <td>0.004090</td>\n",
       "    </tr>\n",
       "    <tr>\n",
       "      <th>...</th>\n",
       "      <td>...</td>\n",
       "      <td>...</td>\n",
       "      <td>...</td>\n",
       "      <td>...</td>\n",
       "      <td>...</td>\n",
       "      <td>...</td>\n",
       "      <td>...</td>\n",
       "      <td>...</td>\n",
       "    </tr>\n",
       "    <tr>\n",
       "      <th>27/12/21</th>\n",
       "      <td>0.001928</td>\n",
       "      <td>0.002761</td>\n",
       "      <td>0.000574</td>\n",
       "      <td>0.032578</td>\n",
       "      <td>0.029549</td>\n",
       "      <td>-0.001651</td>\n",
       "      <td>-0.000736</td>\n",
       "      <td>0.013744</td>\n",
       "    </tr>\n",
       "    <tr>\n",
       "      <th>28/12/21</th>\n",
       "      <td>0.000028</td>\n",
       "      <td>-0.003315</td>\n",
       "      <td>-0.001457</td>\n",
       "      <td>0.002541</td>\n",
       "      <td>-0.001224</td>\n",
       "      <td>0.009456</td>\n",
       "      <td>-0.003687</td>\n",
       "      <td>-0.001011</td>\n",
       "    </tr>\n",
       "    <tr>\n",
       "      <th>29/12/21</th>\n",
       "      <td>0.003553</td>\n",
       "      <td>-0.001107</td>\n",
       "      <td>0.004049</td>\n",
       "      <td>0.004810</td>\n",
       "      <td>-0.054108</td>\n",
       "      <td>-0.009973</td>\n",
       "      <td>-0.004888</td>\n",
       "      <td>0.001401</td>\n",
       "    </tr>\n",
       "    <tr>\n",
       "      <th>30/12/21</th>\n",
       "      <td>0.000000</td>\n",
       "      <td>0.006295</td>\n",
       "      <td>-0.003280</td>\n",
       "      <td>-0.000758</td>\n",
       "      <td>-0.069325</td>\n",
       "      <td>-0.004245</td>\n",
       "      <td>-0.007602</td>\n",
       "      <td>-0.002994</td>\n",
       "    </tr>\n",
       "    <tr>\n",
       "      <th>31/12/21</th>\n",
       "      <td>0.001826</td>\n",
       "      <td>0.007623</td>\n",
       "      <td>0.003932</td>\n",
       "      <td>-0.015279</td>\n",
       "      <td>0.041265</td>\n",
       "      <td>0.002177</td>\n",
       "      <td>-0.006530</td>\n",
       "      <td>-0.002630</td>\n",
       "    </tr>\n",
       "  </tbody>\n",
       "</table>\n",
       "<p>756 rows × 8 columns</p>\n",
       "</div>"
      ],
      "text/plain": [
       "          CHFUSD_lrr  GOLD_lrr  EURUSD_lrr  BRENT_lrr   GAS_lrr    PL_lrr  \\\n",
       "<DATE>                                                                      \n",
       "03/01/19    0.002473  0.004094    0.004652   0.015786  0.004803  0.009322   \n",
       "04/01/19    0.001284 -0.008516    0.000377   0.033109  0.037284  0.022267   \n",
       "07/01/19    0.006982 -0.006752    0.006802  -0.003641  0.010373 -0.009521   \n",
       "08/01/19   -0.001765 -0.000545   -0.003194   0.017562 -0.001666  0.000968   \n",
       "09/01/19    0.008212  0.010618    0.009907   0.045868 -0.003675  0.005189   \n",
       "...              ...       ...         ...        ...       ...       ...   \n",
       "27/12/21    0.001928  0.002761    0.000574   0.032578  0.029549 -0.001651   \n",
       "28/12/21    0.000028 -0.003315   -0.001457   0.002541 -0.001224  0.009456   \n",
       "29/12/21    0.003553 -0.001107    0.004049   0.004810 -0.054108 -0.009973   \n",
       "30/12/21    0.000000  0.006295   -0.003280  -0.000758 -0.069325 -0.004245   \n",
       "31/12/21    0.001826  0.007623    0.003932  -0.015279  0.041265  0.002177   \n",
       "\n",
       "          RUBUSD_lrr   SPY_lrr  \n",
       "<DATE>                          \n",
       "03/01/19    0.003656 -0.025068  \n",
       "04/01/19    0.013339  0.033759  \n",
       "07/01/19    0.015553  0.006986  \n",
       "08/01/19   -0.004553  0.009649  \n",
       "09/01/19    0.002413  0.004090  \n",
       "...              ...       ...  \n",
       "27/12/21   -0.000736  0.013744  \n",
       "28/12/21   -0.003687 -0.001011  \n",
       "29/12/21   -0.004888  0.001401  \n",
       "30/12/21   -0.007602 -0.002994  \n",
       "31/12/21   -0.006530 -0.002630  \n",
       "\n",
       "[756 rows x 8 columns]"
      ]
     },
     "execution_count": 43,
     "metadata": {},
     "output_type": "execute_result"
    }
   ],
   "source": [
    "stocks_data"
   ]
  },
  {
   "cell_type": "code",
   "execution_count": 44,
   "metadata": {},
   "outputs": [
    {
     "name": "stdout",
     "output_type": "stream",
     "text": [
      "p-value for significance is:  0.8688157804263602\n",
      "accept null hypothesis\n"
     ]
    }
   ],
   "source": [
    "# Anova Test\n",
    "from scipy import stats\n",
    "from statsmodels.stats import weightstats as stests\n",
    "F, p = stats.f_oneway(stocks_data['SPY_lrr'],stocks_data['GOLD_lrr'], stocks_data['GAS_lrr'])\n",
    "print(\"p-value for significance is: \", p)\n",
    "if p<0.05:\n",
    "    print(\"reject null hypothesis\")\n",
    "else:\n",
    "    print(\"accept null hypothesis\")"
   ]
  },
  {
   "cell_type": "markdown",
   "metadata": {},
   "source": [
    "# Correlation test"
   ]
  },
  {
   "cell_type": "code",
   "execution_count": 45,
   "metadata": {},
   "outputs": [
    {
     "data": {
      "text/plain": [
       "<AxesSubplot:title={'center':'Gold daily log returns'}, xlabel='<DATE>'>"
      ]
     },
     "execution_count": 45,
     "metadata": {},
     "output_type": "execute_result"
    },
    {
     "data": {
      "image/png": "[encoded data removed]",
      "text/plain": [
       "<Figure size 864x576 with 1 Axes>"
      ]
     },
     "metadata": {
      "needs_background": "light"
     },
     "output_type": "display_data"
    }
   ],
   "source": [
    "stocks_data['SPY_lrr'].plot(title='S&P 500 daily log returns', legend=True, figsize=(12,8))\n",
    "stocks_data['GOLD_lrr'].plot(title='Gold daily log returns', legend=True, figsize=(12,8))"
   ]
  },
  {
   "cell_type": "code",
   "execution_count": 46,
   "metadata": {},
   "outputs": [
    {
     "name": "stdout",
     "output_type": "stream",
     "text": [
      "p-value for significance is:  3.314217905407808e-05\n",
      "correlation is:  0.1503503306907676\n"
     ]
    }
   ],
   "source": [
    "from scipy.stats.stats import pearsonr\n",
    "corr, p = pearsonr(stocks_data['SPY_lrr'],stocks_data['GOLD_lrr'])\n",
    "print(\"p-value for significance is: \", p)\n",
    "print(\"correlation is: \", corr)\n"
   ]
  },
  {
   "cell_type": "markdown",
   "metadata": {},
   "source": [
    "## Проверка связи двух категориальных признаков"
   ]
  },
  {
   "cell_type": "code",
   "execution_count": 47,
   "metadata": {},
   "outputs": [],
   "source": [
    "df = pd.DataFrame({'Order': [1, 2, 3, 4, 5, 6, 7, 8, 9, 10,\n",
    "                            11, 12, 13, 14, 15, 16, 17, 18, 19, 20],\n",
    "                   'Product': ['TV', 'TV', 'Comp', 'TV', 'TV', 'Comp',\n",
    "                               'Comp', 'Comp', 'TV', 'Radio', 'TV', 'Radio', 'Radio',\n",
    "                               'Radio', 'Comp', 'Comp', 'TV', 'TV', 'Radio', 'TV'],\n",
    "                   'Country': ['A', 'A', 'A', 'A', 'B', 'B', 'B', 'B', 'B', 'B', 'B',\n",
    "                               'B', 'C', 'C', 'C', 'C', 'C', 'C', 'C', 'C']})"
   ]
  },
  {
   "cell_type": "code",
   "execution_count": 48,
   "metadata": {},
   "outputs": [
    {
     "name": "stdout",
     "output_type": "stream",
     "text": [
      "stat=2.750, p=0.600\n",
      "Probably independent\n"
     ]
    }
   ],
   "source": [
    "from scipy.stats import chi2_contingency\n",
    "\n",
    "table = pd.crosstab(index=df['Country'], columns=df['Product'])\n",
    "stat, p, dof, expected = chi2_contingency(table)\n",
    "print('stat=%.3f, p=%.3f' % (stat, p))\n",
    "if p > 0.05:\n",
    "\tprint('Probably independent')\n",
    "else:\n",
    "\tprint('Probably dependent')"
   ]
  },
  {
   "cell_type": "markdown",
   "metadata": {},
   "source": [
    "# Теперь давайте сами"
   ]
  },
  {
   "cell_type": "code",
   "execution_count": 49,
   "metadata": {},
   "outputs": [],
   "source": [
    "aapl_stock_price_data = web.DataReader('AAPL', 'yahoo', '2014-09-17', '2022-08-06')"
   ]
  },
  {
   "cell_type": "code",
   "execution_count": 50,
   "metadata": {},
   "outputs": [
    {
     "data": {
      "text/html": [
       "<div>\n",
       "<style scoped>\n",
       "    .dataframe tbody tr th:only-of-type {\n",
       "        vertical-align: middle;\n",
       "    }\n",
       "\n",
       "    .dataframe tbody tr th {\n",
       "        vertical-align: top;\n",
       "    }\n",
       "\n",
       "    .dataframe thead th {\n",
       "        text-align: right;\n",
       "    }\n",
       "</style>\n",
       "<table border=\"1\" class=\"dataframe\">\n",
       "  <thead>\n",
       "    <tr style=\"text-align: right;\">\n",
       "      <th></th>\n",
       "      <th>High</th>\n",
       "      <th>Low</th>\n",
       "      <th>Open</th>\n",
       "      <th>Close</th>\n",
       "      <th>Volume</th>\n",
       "      <th>Adj Close</th>\n",
       "    </tr>\n",
       "    <tr>\n",
       "      <th>Date</th>\n",
       "      <th></th>\n",
       "      <th></th>\n",
       "      <th></th>\n",
       "      <th></th>\n",
       "      <th></th>\n",
       "      <th></th>\n",
       "    </tr>\n",
       "  </thead>\n",
       "  <tbody>\n",
       "    <tr>\n",
       "      <th>2014-09-17</th>\n",
       "      <td>468.174011</td>\n",
       "      <td>452.421997</td>\n",
       "      <td>465.864014</td>\n",
       "      <td>457.334015</td>\n",
       "      <td>21056800</td>\n",
       "      <td>457.334015</td>\n",
       "    </tr>\n",
       "    <tr>\n",
       "      <th>2014-09-18</th>\n",
       "      <td>456.859985</td>\n",
       "      <td>413.104004</td>\n",
       "      <td>456.859985</td>\n",
       "      <td>424.440002</td>\n",
       "      <td>34483200</td>\n",
       "      <td>424.440002</td>\n",
       "    </tr>\n",
       "    <tr>\n",
       "      <th>2014-09-19</th>\n",
       "      <td>427.834991</td>\n",
       "      <td>384.532013</td>\n",
       "      <td>424.102997</td>\n",
       "      <td>394.795990</td>\n",
       "      <td>37919700</td>\n",
       "      <td>394.795990</td>\n",
       "    </tr>\n",
       "    <tr>\n",
       "      <th>2014-09-20</th>\n",
       "      <td>423.295990</td>\n",
       "      <td>389.882996</td>\n",
       "      <td>394.673004</td>\n",
       "      <td>408.903992</td>\n",
       "      <td>36863600</td>\n",
       "      <td>408.903992</td>\n",
       "    </tr>\n",
       "    <tr>\n",
       "      <th>2014-09-21</th>\n",
       "      <td>412.425995</td>\n",
       "      <td>393.181000</td>\n",
       "      <td>408.084991</td>\n",
       "      <td>398.821014</td>\n",
       "      <td>26580100</td>\n",
       "      <td>398.821014</td>\n",
       "    </tr>\n",
       "    <tr>\n",
       "      <th>...</th>\n",
       "      <td>...</td>\n",
       "      <td>...</td>\n",
       "      <td>...</td>\n",
       "      <td>...</td>\n",
       "      <td>...</td>\n",
       "      <td>...</td>\n",
       "    </tr>\n",
       "    <tr>\n",
       "      <th>2022-08-03</th>\n",
       "      <td>23578.650391</td>\n",
       "      <td>22747.835938</td>\n",
       "      <td>22981.302734</td>\n",
       "      <td>22846.507812</td>\n",
       "      <td>26288169966</td>\n",
       "      <td>22846.507812</td>\n",
       "    </tr>\n",
       "    <tr>\n",
       "      <th>2022-08-04</th>\n",
       "      <td>23198.009766</td>\n",
       "      <td>22485.701172</td>\n",
       "      <td>22848.214844</td>\n",
       "      <td>22630.957031</td>\n",
       "      <td>25120229769</td>\n",
       "      <td>22630.957031</td>\n",
       "    </tr>\n",
       "    <tr>\n",
       "      <th>2022-08-05</th>\n",
       "      <td>23422.828125</td>\n",
       "      <td>22612.177734</td>\n",
       "      <td>22626.833984</td>\n",
       "      <td>23289.314453</td>\n",
       "      <td>28881249043</td>\n",
       "      <td>23289.314453</td>\n",
       "    </tr>\n",
       "    <tr>\n",
       "      <th>2022-08-06</th>\n",
       "      <td>23326.562500</td>\n",
       "      <td>22961.279297</td>\n",
       "      <td>23291.423828</td>\n",
       "      <td>22961.279297</td>\n",
       "      <td>15978259885</td>\n",
       "      <td>22961.279297</td>\n",
       "    </tr>\n",
       "    <tr>\n",
       "      <th>2022-08-07</th>\n",
       "      <td>23359.009766</td>\n",
       "      <td>22894.556641</td>\n",
       "      <td>22963.505859</td>\n",
       "      <td>23175.890625</td>\n",
       "      <td>15886817043</td>\n",
       "      <td>23175.890625</td>\n",
       "    </tr>\n",
       "  </tbody>\n",
       "</table>\n",
       "<p>2882 rows × 6 columns</p>\n",
       "</div>"
      ],
      "text/plain": [
       "                    High           Low          Open         Close  \\\n",
       "Date                                                                 \n",
       "2014-09-17    468.174011    452.421997    465.864014    457.334015   \n",
       "2014-09-18    456.859985    413.104004    456.859985    424.440002   \n",
       "2014-09-19    427.834991    384.532013    424.102997    394.795990   \n",
       "2014-09-20    423.295990    389.882996    394.673004    408.903992   \n",
       "2014-09-21    412.425995    393.181000    408.084991    398.821014   \n",
       "...                  ...           ...           ...           ...   \n",
       "2022-08-03  23578.650391  22747.835938  22981.302734  22846.507812   \n",
       "2022-08-04  23198.009766  22485.701172  22848.214844  22630.957031   \n",
       "2022-08-05  23422.828125  22612.177734  22626.833984  23289.314453   \n",
       "2022-08-06  23326.562500  22961.279297  23291.423828  22961.279297   \n",
       "2022-08-07  23359.009766  22894.556641  22963.505859  23175.890625   \n",
       "\n",
       "                 Volume     Adj Close  \n",
       "Date                                   \n",
       "2014-09-17     21056800    457.334015  \n",
       "2014-09-18     34483200    424.440002  \n",
       "2014-09-19     37919700    394.795990  \n",
       "2014-09-20     36863600    408.903992  \n",
       "2014-09-21     26580100    398.821014  \n",
       "...                 ...           ...  \n",
       "2022-08-03  26288169966  22846.507812  \n",
       "2022-08-04  25120229769  22630.957031  \n",
       "2022-08-05  28881249043  23289.314453  \n",
       "2022-08-06  15978259885  22961.279297  \n",
       "2022-08-07  15886817043  23175.890625  \n",
       "\n",
       "[2882 rows x 6 columns]"
      ]
     },
     "execution_count": 50,
     "metadata": {},
     "output_type": "execute_result"
    }
   ],
   "source": [
    "btc_price_data = web.DataReader('BTC-USD', 'yahoo', '2010-01-01', '2022-08-06')\n",
    "btc_price_data"
   ]
  },
  {
   "cell_type": "code",
   "execution_count": 51,
   "metadata": {},
   "outputs": [
    {
     "data": {
      "image/png": "[encoded data removed]",
      "text/plain": [
       "<Figure size 864x576 with 2 Axes>"
      ]
     },
     "metadata": {
      "needs_background": "light"
     },
     "output_type": "display_data"
    }
   ],
   "source": [
    "import matplotlib.pyplot as plt\n",
    "\n",
    "fig, ax = plt.subplots(figsize=(12,8))\n",
    "\n",
    "# Plot linear sequence, and set tick labels to the same color\n",
    "ax.plot(aapl_stock_price_data['Adj Close'], color='red')\n",
    "ax.tick_params(axis='y', labelcolor='red')\n",
    "\n",
    "# Generate a new Axes instance, on the twin-X axes (same position)\n",
    "ax2 = ax.twinx()\n",
    "\n",
    "# Plot exponential sequence, set scale to logarithmic and change tick color\n",
    "ax2.plot(btc_price_data['Adj Close'], color='green')\n",
    "ax2.tick_params(axis='y', labelcolor='green')\n",
    "\n",
    "plt.show()"
   ]
  },
  {
   "cell_type": "code",
   "execution_count": 52,
   "metadata": {},
   "outputs": [],
   "source": [
    "# на основе Adj Close извлеките логарифмическую доходность BTC task1, ответ – мю и сигма +\n",
    "# проверьте распределение получившихся данных BTC task2, ответ yes/no  +\n",
    "# возмонжо попробуйте их (BTC) нормализовать task3, ответ – mu и sigma +\n",
    "# попробуйте предположить по подвыборке размером 634 дней среднее значение для доходностей (BTC) на уровне 90 95 99 – task 4, ответ – val + [a;b] +\n",
    "# проверьте корреляцию доходностей BTC & AAPL – task5, ответ – yes/no + "
   ]
  },
  {
   "cell_type": "markdown",
   "metadata": {},
   "source": [
    "## Task 1. На основе Adj Close извлеките логарифмическую доходность BTC"
   ]
  },
  {
   "cell_type": "code",
   "execution_count": 53,
   "metadata": {},
   "outputs": [],
   "source": [
    "btc_lrr = np.log(btc_price_data['Adj Close']/btc_price_data['Adj Close'].shift(1)).dropna()"
   ]
  },
  {
   "cell_type": "code",
   "execution_count": 54,
   "metadata": {},
   "outputs": [
    {
     "name": "stdout",
     "output_type": "stream",
     "text": [
      "Answer1 - mean 0.0014 and std 0.0391\n"
     ]
    },
    {
     "data": {
      "text/plain": [
       "(0.0013625316939291337, 0.0390704935495444)"
      ]
     },
     "execution_count": 54,
     "metadata": {},
     "output_type": "execute_result"
    }
   ],
   "source": [
    "btc_lrr_mean = np.mean(btc_lrr)\n",
    "btc_lrr_std = np.std(btc_lrr)\n",
    "btc_size = btc_lrr.shape[0]\n",
    "print('Answer1 - mean %.4f and std %.4f' % (btc_lrr_mean, btc_lrr_std))\n",
    "(btc_lrr_mean, btc_lrr_std)"
   ]
  },
  {
   "cell_type": "markdown",
   "metadata": {},
   "source": [
    "## Task 2. Проверьте распределение получившихся данных BTC"
   ]
  },
  {
   "cell_type": "code",
   "execution_count": 55,
   "metadata": {},
   "outputs": [
    {
     "data": {
      "text/plain": [
       "<AxesSubplot:title={'center':'BTC log returns'}, xlabel='Date'>"
      ]
     },
     "execution_count": 55,
     "metadata": {},
     "output_type": "execute_result"
    },
    {
     "data": {
      "image/png": "[encoded data removed]",
      "text/plain": [
       "<Figure size 864x576 with 1 Axes>"
      ]
     },
     "metadata": {
      "needs_background": "light"
     },
     "output_type": "display_data"
    }
   ],
   "source": [
    "btc_lrr.plot(title='BTC log returns', figsize=(12,8))"
   ]
  },
  {
   "cell_type": "code",
   "execution_count": 56,
   "metadata": {},
   "outputs": [
    {
     "name": "stdout",
     "output_type": "stream",
     "text": [
      "btc mean 0.0014\n",
      "90 percent interval (-0.0012,0.0012)\n"
     ]
    }
   ],
   "source": [
    "bottom = 0 - 1.64*btc_lrr_std/np.sqrt(btc_size)\n",
    "upper = 0 + 1.64*btc_lrr_std/np.sqrt(btc_size)\n",
    "print('btc mean %.4f' % btc_lrr_mean)\n",
    "print('90 percent interval (%.4f,%.4f)' % (bottom, upper))"
   ]
  },
  {
   "cell_type": "markdown",
   "metadata": {},
   "source": [
    "Не входит в 90% интервал"
   ]
  },
  {
   "cell_type": "code",
   "execution_count": 57,
   "metadata": {},
   "outputs": [
    {
     "name": "stdout",
     "output_type": "stream",
     "text": [
      "btc mean 0.0014\n",
      "95 percent interval (-0.0014,0.0014)\n"
     ]
    }
   ],
   "source": [
    "bottom = 0 - 1.96*btc_lrr_std/np.sqrt(btc_size)\n",
    "upper = 0 + 1.96*btc_lrr_std/np.sqrt(btc_size)\n",
    "print('btc mean %.4f' % btc_lrr_mean)\n",
    "print('95 percent interval (%.4f,%.4f)' % (bottom, upper))"
   ]
  },
  {
   "cell_type": "markdown",
   "metadata": {},
   "source": [
    "Но входит в 95% интервал и, соответственнно, 99% интервал."
   ]
  },
  {
   "cell_type": "code",
   "execution_count": 58,
   "metadata": {},
   "outputs": [
    {
     "name": "stdout",
     "output_type": "stream",
     "text": [
      "btc mean 0.0014\n",
      "99 percent interval (-0.0017,0.0017)\n"
     ]
    }
   ],
   "source": [
    "bottom = 0 - 2.34*btc_lrr_std/np.sqrt(btc_size)\n",
    "upper = 0 + 2.34*btc_lrr_std/np.sqrt(btc_size)\n",
    "print('btc mean %.4f' % btc_lrr_mean)\n",
    "print('99 percent interval (%.4f,%.4f)' % (bottom, upper))"
   ]
  },
  {
   "cell_type": "markdown",
   "metadata": {},
   "source": [
    "Проверка с помощью z-критерия, Шапиро-Уилка, Колмогорова-Смирнова"
   ]
  },
  {
   "cell_type": "markdown",
   "metadata": {},
   "source": [
    "### Z-test"
   ]
  },
  {
   "cell_type": "code",
   "execution_count": 59,
   "metadata": {},
   "outputs": [
    {
     "name": "stdout",
     "output_type": "stream",
     "text": [
      "Z-test\n",
      "z-crit 1.8718 and p-value 0.0306\n",
      "Probably not Gaussian\n"
     ]
    }
   ],
   "source": [
    "import scipy.stats as st\n",
    "z_crit = (np.sqrt(btc_size)*(btc_lrr_mean - 0)/btc_lrr_std)\n",
    "p_value = 1 - st.norm.cdf(z_crit)\n",
    "print(\"z-crit %.4f and p-value %.4f\" %(z_crit, p_value))\n",
    "if p_value > 0.05:\n",
    "\tprint('Probably Gaussian')\n",
    "else:\n",
    "\tprint('Probably not Gaussian')"
   ]
  },
  {
   "cell_type": "markdown",
   "metadata": {},
   "source": [
    "### Шапиро-Уилка"
   ]
  },
  {
   "cell_type": "code",
   "execution_count": 60,
   "metadata": {},
   "outputs": [
    {
     "name": "stdout",
     "output_type": "stream",
     "text": [
      "Shapiro\n",
      "stat=0.9083, p=0.0000\n",
      "Probably not Gaussian\n"
     ]
    }
   ],
   "source": [
    "from scipy.stats import shapiro\n",
    "stat, p = shapiro(btc_lrr)\n",
    "print('stat=%.4f, p=%.4f' % (stat, p))\n",
    "if p > 0.05:\n",
    "\tprint('Probably Gaussian')\n",
    "else:\n",
    "\tprint('Probably not Gaussian')"
   ]
  },
  {
   "cell_type": "markdown",
   "metadata": {},
   "source": [
    "### Колмогорова-Смирнова"
   ]
  },
  {
   "cell_type": "code",
   "execution_count": 61,
   "metadata": {},
   "outputs": [
    {
     "name": "stdout",
     "output_type": "stream",
     "text": [
      "Kolmogorov\n",
      "stat=0.4478, p=0.0000\n",
      "Probably not Gaussian\n"
     ]
    }
   ],
   "source": [
    "from scipy.stats import kstest\n",
    "stat, p = kstest(btc_lrr, 'norm')\n",
    "print('stat=%.4f, p=%.4f' % (stat, p))\n",
    "if p > 0.05:\n",
    "\tprint('Probably Gaussian')\n",
    "else:\n",
    "\tprint('Probably not Gaussian')"
   ]
  },
  {
   "cell_type": "markdown",
   "metadata": {},
   "source": [
    "Все они дают ответ нет. Следовательно ответ на данную задачу - Нет."
   ]
  },
  {
   "cell_type": "markdown",
   "metadata": {},
   "source": [
    "## Task 3. Нормализация данных(BTC)"
   ]
  },
  {
   "cell_type": "code",
   "execution_count": 63,
   "metadata": {},
   "outputs": [
    {
     "name": "stdout",
     "output_type": "stream",
     "text": [
      "Mean -0.0000 and Std 1.0000\n"
     ]
    }
   ],
   "source": [
    "btc_lrr_normalize = ((btc_lrr - btc_lrr_mean) / btc_lrr_std).dropna()\n",
    "btc_lrr_normalize_mean = np.mean(btc_lrr_normalize)\n",
    "btc_lrr_normalize_std = np.std(btc_lrr_normalize)\n",
    "\n",
    "print('Mean %.4f and Std %.4f' % (btc_lrr_normalize_mean, btc_lrr_normalize_std))"
   ]
  },
  {
   "cell_type": "markdown",
   "metadata": {},
   "source": [
    "## Task 4. Предположить по подвыборке размером 634 дней среднее значение для доходностей (BTC) на уровне 90 95 99"
   ]
  },
  {
   "cell_type": "code",
   "execution_count": 96,
   "metadata": {},
   "outputs": [],
   "source": [
    "btc_lrr_634 = btc_lrr.sample(634)\n",
    "btc_lrr_634_mean = np.mean(btc_lrr_634)\n",
    "btc_lrr_634_std = np.std(btc_lrr_634)"
   ]
  },
  {
   "cell_type": "markdown",
   "metadata": {},
   "source": [
    "### 90% интервал"
   ]
  },
  {
   "cell_type": "code",
   "execution_count": 106,
   "metadata": {},
   "outputs": [
    {
     "name": "stdout",
     "output_type": "stream",
     "text": [
      "btc mean 0.0014\n",
      "90 percent interval (0.0017,0.0041)\n",
      "0.0016685768792013148 0.0040561193840300104\n"
     ]
    },
    {
     "data": {
      "text/plain": [
       "0.0013625316939291337"
      ]
     },
     "execution_count": 106,
     "metadata": {},
     "output_type": "execute_result"
    }
   ],
   "source": [
    "bottom = btc_lrr_634_mean - 1.64*btc_lrr_std/np.sqrt(btc_size)\n",
    "upper = btc_lrr_634_mean + 1.64*btc_lrr_std/np.sqrt(btc_size)\n",
    "print('btc mean %.4f' % btc_lrr_mean)\n",
    "print('90 percent interval (%.4f,%.4f)' % (bottom, upper))"
   ]
  },
  {
   "cell_type": "markdown",
   "metadata": {},
   "source": [
    "### 95% интервал"
   ]
  },
  {
   "cell_type": "code",
   "execution_count": 102,
   "metadata": {},
   "outputs": [
    {
     "name": "stdout",
     "output_type": "stream",
     "text": [
      "btc mean 0.0014\n",
      "95 percent interval (0.0014,0.0043)\n",
      "0.0014356459031204661 0.004289050360110859\n"
     ]
    }
   ],
   "source": [
    "bottom = btc_lrr_634_mean - 1.96*btc_lrr_std/np.sqrt(btc_size)\n",
    "upper = btc_lrr_634_mean + 1.96*btc_lrr_std/np.sqrt(btc_size)\n",
    "print('btc mean %.4f' % btc_lrr_mean)\n",
    "print('95 percent interval (%.4f,%.4f)' % (bottom, upper))"
   ]
  },
  {
   "cell_type": "markdown",
   "metadata": {},
   "source": [
    "но в 95% интервал входит"
   ]
  },
  {
   "cell_type": "markdown",
   "metadata": {},
   "source": [
    "### 99% интервал"
   ]
  },
  {
   "cell_type": "code",
   "execution_count": 107,
   "metadata": {},
   "outputs": [
    {
     "name": "stdout",
     "output_type": "stream",
     "text": [
      "btc mean 0.0014\n",
      "99 percent interval (0.0010,0.0047)\n",
      "0.0009843421369638225 0.004740354126267503\n"
     ]
    }
   ],
   "source": [
    "bottom = btc_lrr_634_mean - 2.58*btc_lrr_std/np.sqrt(btc_size)\n",
    "upper = btc_lrr_634_mean + 2.58*btc_lrr_std/np.sqrt(btc_size)\n",
    "print('btc mean %.4f' % btc_lrr_mean)\n",
    "print('99 percent interval (%.4f,%.4f)' % (bottom, upper))"
   ]
  },
  {
   "cell_type": "markdown",
   "metadata": {},
   "source": [
    "## Task 5. Проверьте корреляцию доходностей BTC & AAPL"
   ]
  },
  {
   "cell_type": "code",
   "execution_count": 87,
   "metadata": {},
   "outputs": [
    {
     "data": {
      "text/plain": [
       "<seaborn.axisgrid.FacetGrid at 0x22d5cbc5130>"
      ]
     },
     "execution_count": 87,
     "metadata": {},
     "output_type": "execute_result"
    },
    {
     "data": {
      "image/png": "[encoded data removed]",
      "text/plain": [
       "<Figure size 360x360 with 1 Axes>"
      ]
     },
     "metadata": {
      "needs_background": "light"
     },
     "output_type": "display_data"
    }
   ],
   "source": [
    "aapl_lrr = np.log(aapl_stock_price_data['Adj Close']/aapl_stock_price_data['Adj Close'].shift(1))\n",
    "data = pd.concat([aapl_lrr.rename('aapl_lrr'), btc_lrr.rename('btc_lrr')], axis=1).dropna()\n",
    "sns.lmplot(data=data, x='btc_lrr', y='aapl_lrr')"
   ]
  },
  {
   "cell_type": "code",
   "execution_count": 89,
   "metadata": {},
   "outputs": [
    {
     "name": "stdout",
     "output_type": "stream",
     "text": [
      "correlation is:  0.16567101709243512\n"
     ]
    }
   ],
   "source": [
    "from scipy.stats.stats import pearsonr\n",
    "corr, p = pearsonr(data.aapl_lrr, data.btc_lrr)\n",
    "print(\"correlation is: \", corr)"
   ]
  },
  {
   "cell_type": "markdown",
   "metadata": {},
   "source": [
    "Корелляции нет."
   ]
  },
  {
   "cell_type": "code",
   "execution_count": 1,
   "metadata": {},
   "outputs": [],
   "source": [
    "ANSWERS = {\n",
    "    'tasks' : {\n",
    "        'task1_mu' : {\n",
    "            \"answer\" : 0.0013625316939291337\n",
    "        }, \n",
    "        'task1_sigma' : {\n",
    "            \"answer\" : 0.0390704935495444\n",
    "        }, \n",
    "        'task2_normal' : {\n",
    "            'answer' : 'no'\n",
    "        }, \n",
    "        'task3_mu' : {\n",
    "            \"answer\" : -3.828554581621288e-17\n",
    "        }, \n",
    "        'task3_sigma' : {\n",
    "            \"answer\" : 1.0\n",
    "        }, \n",
    "        'task4_90' : {\n",
    "            \"answer\" : 0.0013625316939291337\n",
    "        }, \n",
    "        'task4_90_int' : {\n",
    "            \"answer\" : [0.0016685768792013148, 0.0040561193840300104]\n",
    "        }, \n",
    "        'task4_95' : {\n",
    "            \"answer\" : 0.0013625316939291337\n",
    "        }, \n",
    "        'task4_95_int' : {\n",
    "            \"answer\" : [0.0014356459031204661, 0.004289050360110859]\n",
    "        }, \n",
    "        'task4_99' : {\n",
    "            \"answer\" : 0.0013625316939291337\n",
    "        }, \n",
    "        'task4_99_int' : {\n",
    "            \"answer\" : [0.0009843421369638225, 0.004740354126267503]\n",
    "        }, \n",
    "        'task5_corr' : {\n",
    "            \"answer\" : \"no\"\n",
    "        }\n",
    "    }\n",
    "}"
   ]
  },
  {
   "cell_type": "code",
   "execution_count": 4,
   "metadata": {},
   "outputs": [
    {
     "name": "stdout",
     "output_type": "stream",
     "text": [
      "tasks:\n",
      "  task1_mu:\n",
      "    answer: 0.0013625316939291337\n",
      "  task1_sigma:\n",
      "    answer: 0.0390704935495444\n",
      "  task2_normal:\n",
      "    answer: 'no'\n",
      "  task3_mu:\n",
      "    answer: -3.828554581621288e-17\n",
      "  task3_sigma:\n",
      "    answer: 1.0\n",
      "  task4_90:\n",
      "    answer: 0.0013625316939291337\n",
      "  task4_90_int:\n",
      "    answer:\n",
      "    - 0.0016685768792013148\n",
      "    - 0.0040561193840300104\n",
      "  task4_95:\n",
      "    answer: 0.0013625316939291337\n",
      "  task4_95_int:\n",
      "    answer:\n",
      "    - 0.0014356459031204661\n",
      "    - 0.004289050360110859\n",
      "  task4_99:\n",
      "    answer: 0.0013625316939291337\n",
      "  task4_99_int:\n",
      "    answer:\n",
      "    - 0.0009843421369638225\n",
      "    - 0.004740354126267503\n",
      "  task5_corr:\n",
      "    answer: 'no'\n",
      "\n"
     ]
    }
   ],
   "source": [
    "yaml_result = yaml.dump(ANSWERS)\n",
    "\n",
    "print(yaml_result)\n",
    "\n",
    "with open(f\"hw03.yaml\", \"w\") as f:\n",
    "    f.write(yaml_result)"
   ]
  }
 ],
 "metadata": {
  "kernelspec": {
   "display_name": "Python 3.9.12 ('base')",
   "language": "python",
   "name": "python3"
  },
  "language_info": {
   "codemirror_mode": {
    "name": "ipython",
    "version": 3
   },
   "file_extension": ".py",
   "mimetype": "text/x-python",
   "name": "python",
   "nbconvert_exporter": "python",
   "pygments_lexer": "ipython3",
   "version": "3.9.12"
  },
  "orig_nbformat": 4,
  "vscode": {
   "interpreter": {
    "hash": "e4cce46d6be9934fbd27f9ca0432556941ea5bdf741d4f4d64c6cd7f8dfa8fba"
   }
  }
 },
 "nbformat": 4,
 "nbformat_minor": 2
}
